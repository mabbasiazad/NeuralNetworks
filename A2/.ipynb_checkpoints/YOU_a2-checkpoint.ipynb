{
 "cells": [
  {
   "cell_type": "markdown",
   "metadata": {},
   "source": [
    "# A2: Error Backpropagation"
   ]
  },
  {
   "cell_type": "code",
   "execution_count": 1,
   "metadata": {
    "ExecuteTime": {
     "end_time": "2020-02-05T22:51:05.067423Z",
     "start_time": "2020-02-05T22:51:04.021316Z"
    },
    "code_folding": []
   },
   "outputs": [],
   "source": [
    "# Standard imports\n",
    "import numpy as np\n",
    "import matplotlib.pylab as plt\n",
    "%matplotlib inline\n",
    "import importlib\n",
    "import time"
   ]
  },
  {
   "cell_type": "markdown",
   "metadata": {},
   "source": [
    "**Uncomment these to use the solution instead of your own implementation**"
   ]
  },
  {
   "cell_type": "code",
   "execution_count": 2,
   "metadata": {
    "ExecuteTime": {
     "end_time": "2020-02-05T22:51:06.699261Z",
     "start_time": "2020-02-05T22:51:06.694036Z"
    }
   },
   "outputs": [],
   "source": [
    "#from a2_solutions import FeedForward\n",
    "#from a2_solutions import BackProp\n",
    "#from a2_solutions import Learn"
   ]
  },
  {
   "cell_type": "markdown",
   "metadata": {},
   "source": [
    "# Q1: Logistic Function"
   ]
  },
  {
   "cell_type": "markdown",
   "metadata": {},
   "source": [
    "Your answer here (double-click)."
   ]
  },
  {
   "cell_type": "markdown",
   "metadata": {},
   "source": [
    "To help you with $\\LaTeX$, and to show you my expectations, here is a sample taken from the lecture notes, taken from the 3rd and 4th page of the notes entitled \"Error Backpropagation\". It has nothing to do with the solution to this question, but just demonstrates some of the features of $\\LaTeX$. Notice how I include English statments to guide the reader through the derivation.\n",
    "\n",
    "<a target=_new href=\"http://detexify.kirelabs.org/classify.html\">This web page</a> is very handy for identifying $\\LaTeX$ symbols.\n",
    "\n",
    "---\n",
    "More generally, for $\\vec{x} \\in \\mathbb{R}^X$, $\\vec{h} \\in \\mathbb{R}^H$, and $\\vec{y} \\in \\mathbb{R}^Y$.\n",
    "$$\n",
    "\\begin{align}\n",
    "\\frac{\\partial E}{\\partial \\alpha_i}\n",
    "  &= \\frac{d h_i}{d \\alpha_i} \\\\\n",
    "  &= \\frac{d h_i}{d \\alpha_i}\n",
    "  \\left[ M_{1i} \\ \\cdots \\ M_{Yi} \\right] \\cdot\n",
    "  \\left[ \\frac{\\partial E}{\\partial \\beta_1} \\ \\cdots \\ \\frac{\\partial E}{\\partial \\beta_Y} \\right] \\\\\n",
    "  &= \\frac{d h_i}{d \\alpha_i}\n",
    "   \\left[ M_{1i} \\ \\cdots \\ M_{Yi} \\right]\n",
    "   \\left[ \\begin{array}{c}\n",
    "     \\frac{\\partial E}{\\partial \\beta_1} \\\\\n",
    "     \\vdots \\\\\n",
    "     \\frac{\\partial E}{\\partial \\beta_Y} \\end{array} \\right]\n",
    "\\end{align}\n",
    "$$\n",
    "Thus, for all elements,\n",
    "$$\n",
    "\\begin{align}\n",
    "\\left[ \\begin{array}{c}\n",
    "  \\frac{\\partial E}{\\partial \\alpha_1} \\\\\n",
    "  \\vdots \\\\\n",
    "  \\frac{\\partial E}{\\partial \\alpha_H}\n",
    "\\end{array} \\right] &=\n",
    "%\n",
    "\\left[ \\begin{array}{c}\n",
    "  \\frac{d h_1}{d \\alpha_1} \\\\\n",
    "  \\vdots \\\\\n",
    "  \\frac{d h_H}{d \\alpha_H}\n",
    "\\end{array} \\right]\n",
    "\\odot\n",
    "\\left[ \\begin{array}{ccc}\n",
    "  M_{11} & \\cdots & M_{Y1} \\\\\n",
    "  \\vdots & \\ddots & \\vdots \\\\\n",
    "  M_{1H} & \\cdots & M_{YH}\n",
    "\\end{array} \\right]\n",
    "%\n",
    "\\left[ \\begin{array}{c}\n",
    "  \\frac{\\partial E}{\\partial \\beta_1} \\\\\n",
    "  \\vdots \\\\\n",
    "  \\frac{\\partial E}{\\partial \\beta_Y}\n",
    "\\end{array} \\right] \\\\\n",
    "%\n",
    "\\frac{\\partial E}{\\partial \\vec{\\alpha}} &=\n",
    "\\frac{d \\vec{h}}{d \\vec{\\alpha}} \\odot M^\\mathrm{T}\n",
    "\\frac{\\partial E}{\\partial \\vec{\\beta}}\n",
    "\\end{align}\n",
    "$$\n",
    "\n"
   ]
  },
  {
   "cell_type": "markdown",
   "metadata": {
    "ExecuteTime": {
     "end_time": "2020-02-01T17:54:14.042524Z",
     "start_time": "2020-02-01T17:54:14.020898Z"
    }
   },
   "source": [
    "We have the following general formula;\n",
    "\\begin{align}\n",
    "    \\frac{d}{dx}[\\frac{f(x)}{g(x)}] &= \\frac{g(x)f ^\\prime (x) - f ^\\prime (x) g(x)}{[g(x)] ^ 2}\n",
    "\\end{align}\n",
    "\n",
    "So the logistic function derative is equal to; \n",
    "\\begin{align}\n",
    "    \\sigma(z) &= \\frac{1}{1 + e ^{-z}} \\\\\n",
    "    \\frac{d\\sigma(z)}{dz} &= \\frac{e ^{-z}}{(1 + e ^{-z}) ^ 2} \\\\\n",
    "    &= \\frac{e ^{-z}}{(1 + e ^{-z})(1 + e ^{-z})} \\\\\n",
    "    &= \\sigma(z) \\frac{e ^{-z}}{1 + e ^{-z}} \\\\\n",
    "    &= \\sigma(z) \\frac{1 + e ^{-z} - 1}{1 + e ^{-z}} \\\\\n",
    "    &= \\sigma(z) (1 - \\frac{1}{1 + e ^{-z}}) \\\\\n",
    "    &= \\sigma(z) (1 - \\sigma(z))\n",
    "\\end{align}"
   ]
  },
  {
   "cell_type": "markdown",
   "metadata": {
    "heading_collapsed": true
   },
   "source": [
    "# Q2: Softmax"
   ]
  },
  {
   "cell_type": "markdown",
   "metadata": {
    "hidden": true
   },
   "source": [
    "$$\n",
    "\\begin{align}\n",
    "    \\frac{\\partial E}{\\partial z_j} &= \\frac{\\partial E}{\\partial y_k} \\frac{\\partial y_k}{\\partial z_j} \\\\\n",
    "    &= (-t_k \\frac{1}{y_k})\\frac{\\partial y_k}{\\partial z_j} &(1)\n",
    "\\end{align}\n",
    "$$\n",
    "We have; \n",
    "$$\n",
    "\\begin{align}\n",
    "    y_k &= \\frac{e ^{z_k}}{\\sum_{j=1}^{K} e ^{z_j}} \n",
    "\\end{align}\n",
    "$$\n",
    "If k = j;\n",
    "$$\n",
    "\\begin{align}\n",
    "    \\frac{\\partial y_k}{\\partial z_j} &= \\frac{e ^ {z_k} \\sum - e ^ {z_j} e ^ {z_k}}{\\sum ^ 2} \\\\\n",
    "    &= \\frac{e ^ {z_k}}{\\sum} \\frac{\\sum-e ^ {z_j}}{\\sum} \\\\\n",
    "    &= y_k(1 - y_j)\n",
    "\\end{align}\n",
    "$$\n",
    "If k $\\ne$ j;\n",
    "$$\n",
    "\\begin{align}\n",
    "    \\frac{\\partial y_k}{\\partial z_j} &= \\frac{0 - e ^ {z_j} e ^ {z_k}}{\\sum ^ 2} \\\\\n",
    "&= -y_k y_j\n",
    "\\end{align}\n",
    "$$\n",
    "So,\n",
    "$$\n",
    "\\begin{align}\n",
    "    \\frac{\\partial y_k}{\\partial z_j} &= y_k(\\delta_{jk} - y_j) & (2)\n",
    "\\end{align}\n",
    "$$\n",
    "where $\\delta_{ij}$ can be defined as; \n",
    "$$\n",
    "\\begin{align}\n",
    "    \\delta_{jk} &=\n",
    "        \\begin{cases} \n",
    "              1 & j = k \\\\\n",
    "              0 & j\\neq k \n",
    "        \\end{cases}\n",
    "\\end{align}\n",
    "$$\n",
    "Combining equations (1) and (2); \n",
    "$$\n",
    "\\begin{align}\n",
    "    \\frac{\\partial E}{\\partial z_j} &= -t_k (\\delta_{jk} - y_j) \n",
    "\\end{align}\n",
    "$$"
   ]
  },
  {
   "cell_type": "markdown",
   "metadata": {
    "heading_collapsed": true
   },
   "source": [
    "# Q3: Top-Layer Error Gradients"
   ]
  },
  {
   "cell_type": "markdown",
   "metadata": {
    "hidden": true
   },
   "source": [
    "(a) The logistic activation function, with cross entropy"
   ]
  },
  {
   "cell_type": "markdown",
   "metadata": {},
   "source": [
    "$$\n",
    "\\begin{align}\n",
    "\\frac{\\partial E}{\\partial z} &= -t (\\frac{1}{y}) - (1 - t)(\\frac{-1}{1-y}) \\sigma ^\\prime (z) \\\\\n",
    "&= -t (\\frac{1}{y}) - (1 - t)(\\frac{-1}{1-y}) y (1 - y)\n",
    "\\end{align}\n",
    "$$"
   ]
  },
  {
   "cell_type": "markdown",
   "metadata": {},
   "source": [
    "(b) The identity activation function, with mean squared error"
   ]
  },
  {
   "cell_type": "markdown",
   "metadata": {},
   "source": [
    "$$\n",
    "\\begin{align}\n",
    "\\frac{\\partial E}{\\partial z} &= 2 (y - t)\n",
    "\\end{align}\n",
    "$$"
   ]
  },
  {
   "cell_type": "markdown",
   "metadata": {
    "collapsed": true
   },
   "source": [
    "# Q4: Implementing Backprop"
   ]
  },
  {
   "cell_type": "markdown",
   "metadata": {},
   "source": [
    "## Supplied Helper Functions"
   ]
  },
  {
   "cell_type": "code",
   "execution_count": 3,
   "metadata": {
    "ExecuteTime": {
     "end_time": "2020-02-05T22:51:17.014916Z",
     "start_time": "2020-02-05T22:51:17.001770Z"
    },
    "code_folding": []
   },
   "outputs": [],
   "source": [
    "# Supplied functions\n",
    "\n",
    "def NSamples(x):\n",
    "    '''\n",
    "        n = NSamples(x)\n",
    "        \n",
    "        Returns the number of samples in a batch of inputs.\n",
    "        \n",
    "        Input:\n",
    "         x   is a 2D array\n",
    "        \n",
    "        Output:\n",
    "         n   is an integer\n",
    "    '''\n",
    "    return len(x)\n",
    "\n",
    "def OneHot(z):\n",
    "    '''\n",
    "        y = OneHot(z)\n",
    "\n",
    "        Applies the one-hot function to the vectors in z.\n",
    "        Example:\n",
    "          OneHot([[0.9, 0.1], [-0.5, 0.1]])\n",
    "          returns np.array([[1,0],[0,1]])\n",
    "\n",
    "        Input:\n",
    "         z    is a 2D array of samples\n",
    "\n",
    "        Output:\n",
    "         y    is an array the same shape as z\n",
    "    '''\n",
    "    y = []\n",
    "    # Locate the max of each row\n",
    "    for zz in z:\n",
    "        idx = np.argmax(zz)\n",
    "        b = np.zeros_like(zz)\n",
    "        b[idx] = 1.\n",
    "        y.append(b)\n",
    "    y = np.array(y)\n",
    "    return y"
   ]
  },
  {
   "cell_type": "markdown",
   "metadata": {},
   "source": [
    "## 4(a)"
   ]
  },
  {
   "cell_type": "code",
   "execution_count": 4,
   "metadata": {
    "ExecuteTime": {
     "end_time": "2020-02-05T22:51:18.773680Z",
     "start_time": "2020-02-05T22:51:18.739968Z"
    }
   },
   "outputs": [],
   "source": [
    "# Grading:\n",
    "# [1] Divide each by NSamples(t) or NSamples(y) to get the mean\n",
    "# Plus one mark for each of the 4 formulas, as indicated below.\n",
    "def CrossEntropy(y, t):\n",
    "    '''\n",
    "        E = CrossEntropy(y, t)\n",
    "\n",
    "        Evaluates the mean cross entropy loss between outputs y and targets t.\n",
    "\n",
    "        Inputs:\n",
    "          y is an array holding the network outputs\n",
    "          t is an array holding the corresponding targets\n",
    "\n",
    "        Outputs:\n",
    "          E is the mean CE\n",
    "    '''\n",
    "    \n",
    "    # === YOUR CODE HERE ===\n",
    "    E = ((-t * np.log(y) + (1 - t) * np.log(1 - y)).mean()) / NSamples(t)\n",
    "    \n",
    "    return E\n",
    "\n",
    "def gradCrossEntropy(y, t):\n",
    "    '''\n",
    "        E = gradCrossEntropy(y, t)\n",
    "\n",
    "        Given targets t, evaluates the gradient of the mean cross entropy loss\n",
    "        with respect to the output y.\n",
    "\n",
    "        Inputs:\n",
    "          y is the array holding the network's output\n",
    "          t is an array holding the corresponding targets\n",
    "\n",
    "        Outputs:\n",
    "          dEdy is the gradient of CE with respect to output y\n",
    "    '''\n",
    "    \n",
    "    # === YOUR CODE HERE ===\n",
    "    dEdy = (-t * np.reciprocal(y) - (1 -t) * (-1 / (1 - y))) /  NSamples(t)\n",
    "    \n",
    "    return dEdy\n",
    "\n",
    "def MSE(y, t):\n",
    "    '''\n",
    "        E = MSE(y, t)\n",
    "\n",
    "        Evaluates the mean squared error loss between outputs y and targets t.\n",
    "\n",
    "        Inputs:\n",
    "          y is the array holding the network's output\n",
    "          t is an array holding the corresponding targets\n",
    "\n",
    "        Outputs:\n",
    "          E is the MSE\n",
    "    '''\n",
    "    \n",
    "    # === YOUR CODE HERE ===\n",
    "    E = ((1 / 2 * (y - t) ** 2).mean()) / NSamples(t)\n",
    "    \n",
    "    return E\n",
    "\n",
    "def gradMSE(y, t):\n",
    "    '''\n",
    "        E = gradMSE(y, t)\n",
    "\n",
    "        Given targets t, evaluates the gradient of the mean squared error loss\n",
    "        with respect to the output y.\n",
    "\n",
    "        Inputs:\n",
    "          y is the array holding the network's output\n",
    "          t is an array holding the corresponding targets\n",
    "\n",
    "        Outputs:\n",
    "          dEdy is the gradient of MSE with respect to output y\n",
    "    '''\n",
    "    \n",
    "    # === YOUR CODE HERE ===\n",
    "    dEdy = (y -t) / NSamples(t)\n",
    "    \n",
    "    return dEdy\n",
    "\n",
    "#================================================================\n",
    "#\n",
    "#  UNCOMMENT THE CORRESPONDING LINES BELOW IF YOU WANT TO USE\n",
    "#  THE SOLUTIONS INSTEAD OF YOUR VERSION.\n",
    "#\n",
    "#================================================================\n",
    "#from a2_solutions import CrossEntropy\n",
    "#from a2_solutions import gradCrossEntropy\n",
    "#from a2_solutions import MSE\n",
    "#from a2_solutions import gradMSE"
   ]
  },
  {
   "cell_type": "markdown",
   "metadata": {},
   "source": [
    "## Layer Class"
   ]
  },
  {
   "cell_type": "code",
   "execution_count": 5,
   "metadata": {
    "ExecuteTime": {
     "end_time": "2020-02-05T22:51:20.333845Z",
     "start_time": "2020-02-05T22:51:20.308185Z"
    }
   },
   "outputs": [],
   "source": [
    "class Layer():\n",
    "    \n",
    "    def __init__(self, n_nodes, act='logistic'):\n",
    "        '''\n",
    "            lyr = Layer(n_nodes, act='logistic')\n",
    "            \n",
    "            Creates a layer object.\n",
    "            \n",
    "            Inputs:\n",
    "             n_nodes  the number of nodes in the layer\n",
    "             act      specifies the activation function\n",
    "                      Use 'logistic' or 'identity'\n",
    "        '''\n",
    "        self.N = n_nodes  # number of nodes in this layer\n",
    "        self.h = []       # node activities\n",
    "        self.z = []\n",
    "        self.b = np.zeros(self.N)  # biases\n",
    "        \n",
    "        # Activation functions\n",
    "        self.sigma = self.Logistic\n",
    "        self.sigma_p = (lambda : self.Logistic_p())\n",
    "        if act=='identity':\n",
    "            self.sigma = self.Identity\n",
    "            self.sigma_p = (lambda : self.Identity_p())\n",
    "       \n",
    "    def Logistic(self):\n",
    "        return 1. / (1. + np.exp(-self.z))\n",
    "    def Logistic_p(self):\n",
    "        return self.h * (1.-self.h)\n",
    "    def Identity(self):\n",
    "        return self.z\n",
    "    def Identity_p(self):\n",
    "        return np.ones_like(self.h)\n"
   ]
  },
  {
   "cell_type": "markdown",
   "metadata": {},
   "source": [
    "## 4(b,c,d) Network Class"
   ]
  },
  {
   "cell_type": "code",
   "execution_count": 15,
   "metadata": {
    "ExecuteTime": {
     "end_time": "2020-02-05T22:55:57.678094Z",
     "start_time": "2020-02-05T22:55:57.664565Z"
    }
   },
   "outputs": [],
   "source": [
    "def Concat1(x):\n",
    "    return np.append(np.ones([x.shape[0], 1]), x, axis=1) if len(x.shape) == 2 else np.append(1, x)"
   ]
  },
  {
   "cell_type": "code",
   "execution_count": 16,
   "metadata": {
    "ExecuteTime": {
     "end_time": "2020-02-05T22:55:58.974921Z",
     "start_time": "2020-02-05T22:55:58.899996Z"
    },
    "code_folding": [
     52,
     78,
     94,
     106,
     126
    ]
   },
   "outputs": [],
   "source": [
    "class Network():\n",
    "\n",
    "    \n",
    "    def FeedForward(self, x):\n",
    "        '''\n",
    "            y = net.FeedForward(x)\n",
    "\n",
    "            Runs the network forward, starting with x as input.\n",
    "            Returns the activity of the output layer.\n",
    "\n",
    "            All node use \n",
    "            Note: The activation function used for the output layer\n",
    "            depends on what self.Loss is set to.\n",
    "        '''\n",
    "        try: FeedForward\n",
    "        except NameError:\n",
    "            \n",
    "            #========= YOUR IMPLEMENTATION BELOW =========\n",
    "\n",
    "            #x = np.array(x)  # Convert input to array, in case it's not\n",
    "            \n",
    "            self.lyr[0].h = x\n",
    "\n",
    "            # === YOUR CODE HERE ===\n",
    "            for idx in range(self.n_layers - 1):\n",
    "                self.lyr[idx + 1].z = Concat1(self.lyr[idx].h) @ np.append(np.array([self.lyr[idx + 1].b]), self.W[idx], axis = 0)\n",
    "                self.lyr[idx + 1].h = self.lyr[idx + 1].sigma()\n",
    "\n",
    "            return  self.lyr[self.n_layers - 1].h\n",
    "        \n",
    "            #========= YOUR IMPLEMENTATION ABOVE =========\n",
    "                        \n",
    "        else:\n",
    "            return FeedForward(self, x)\n",
    "\n",
    "    \n",
    "    def BackProp(self, t, lrate=0.05):\n",
    "        '''\n",
    "            net.BackProp(targets, lrate=0.05)\n",
    "            \n",
    "            Given the current network state and targets t, updates the connection\n",
    "            weights and biases using the backpropagation algorithm.\n",
    "            \n",
    "            Inputs:\n",
    "             t      an array of targets (number of samples must match the\n",
    "                    network's output)\n",
    "             lrate  learning rate\n",
    "        '''\n",
    "        #====== REMOVE BELOW IF YOU DON'T PLAN TO USE THE SOLUTIONS ======\n",
    "        try: BackProp\n",
    "        except NameError:\n",
    "            \n",
    "            #========= YOUR IMPLEMENTATION BELOW =========\n",
    "            \n",
    "            #t = np.array(t)  # convert t to an array, in case it's not\n",
    "            dEdz = []\n",
    "            dW = []\n",
    "            \n",
    "            dEdy = self.gradLoss(self.lyr[self.n_layers - 1].h, t)\n",
    "            \n",
    "            if self.classifier == True:\n",
    "                dEdz.insert(-1, dEdy *  self.lyr[self.n_layers - 1].h * (1 - self.lyr[self.n_layers - 1].h))\n",
    "            else: \n",
    "                dEdz.insert(-1, dEdy)\n",
    "            \n",
    "            for idx in range(1, self.n_layers - 1):\n",
    "                dW.insert(-idx, np.dot(Concat1(self.lyr[-idx - 1].h).T, dEdz[-idx]))\n",
    "                if (idx > self.n_layers - 1):\n",
    "                    dEdz[-idx - 1] = (self.lyr[-idx - 1].h) * (1 - self.lyr[-idx - 1].h) * dEdz[-idx] @ W[-idx][1:, :].T       \n",
    "            \n",
    "            self.W[-idx] -= lrate * dW[-idx][1:, :]\n",
    "            self.lyr[-idx].b -+ lrate * dW[-idx][0, :]\n",
    "            \n",
    "            \n",
    "            # === YOUR CODE HERE ===\n",
    "\n",
    "                        \n",
    "            #========= YOUR IMPLEMENTATION ABOVE =========\n",
    "\n",
    "        else:\n",
    "            BackProp(self, t, lrate)\n",
    "\n",
    "            \n",
    "    def Learn(self, inputs, targets, lrate=0.05, epochs=1, progress=True):\n",
    "        '''\n",
    "            Network.Learn(data, lrate=0.05, epochs=1, progress=True)\n",
    "\n",
    "            Run through the dataset 'epochs' number of times, incrementing the\n",
    "            network weights after each epoch.\n",
    "\n",
    "            Inputs:\n",
    "              data is a list of 2 arrays, one for inputs, and one for targets\n",
    "              lrate is the learning rate (try 0.001 to 0.5)\n",
    "              epochs is the number of times to go through the training data\n",
    "              progress (Boolean) indicates whether to show cost\n",
    "        '''\n",
    "        try: Learn\n",
    "        except NameError:\n",
    "            \n",
    "            #========= YOUR IMPLEMENTATION BELOW =========\n",
    "\n",
    "            # === YOUR CODE HERE ===\n",
    "\n",
    "            for e in range(epochs): \n",
    "                y = self.FeedForward(inputs)\n",
    "                net.BackProp(targets)\n",
    "                if progress == True:\n",
    "                    self.cost_history.append(self.Loss(y, targets))\n",
    "                else: \n",
    "                    pass\n",
    "            \n",
    "            #========= YOUR IMPLEMENTATION ABOVE =========\n",
    "\n",
    "        else:\n",
    "            Learn(self, inputs, targets, lrate=lrate, epochs=epochs, progress=progress)\n",
    "    \n",
    "    \n",
    "    def __init__(self, sizes, type='classifier'):\n",
    "        '''\n",
    "            net = Network(sizes, type='classifier')\n",
    "\n",
    "            Creates a Network and saves it in the variable 'net'.\n",
    "\n",
    "            Inputs:\n",
    "              sizes is a list of integers specifying the number\n",
    "                  of nodes in each layer\n",
    "                  eg. [5, 20, 3] will create a 3-layer network\n",
    "                      with 5 input, 20 hidden, and 3 output nodes\n",
    "              type can be either 'classifier' or 'regression', and\n",
    "                  sets the activation function on the output layer,\n",
    "                  as well as the loss function.\n",
    "                  'classifier': logistic, cross entropy\n",
    "                  'regression': linear, mean squared error\n",
    "        '''\n",
    "        self.n_layers = len(sizes)\n",
    "        self.lyr = []    # a list of Layers\n",
    "        self.W = []      # Weight matrices, indexed by the layer below it\n",
    "        \n",
    "        self.cost_history = []  # keeps track of the cost as learning progresses\n",
    "        \n",
    "        # Two common types of networks\n",
    "        # The member variable self.Loss refers to one of the implemented\n",
    "        # loss functions: MSE, or CrossEntropy.\n",
    "        # Call it using self.Loss(t)\n",
    "        if type=='classifier':\n",
    "            self.classifier = True\n",
    "            self.Loss = CrossEntropy\n",
    "            self.gradLoss = gradCrossEntropy\n",
    "            activation = 'logistic'\n",
    "        else:\n",
    "            self.classifier = False\n",
    "            self.Loss = MSE\n",
    "            self.gradLoss = gradMSE\n",
    "            activation = 'identity'\n",
    "\n",
    "        # Create and add Layers (using logistic for hidden layers)\n",
    "        for n in sizes[:-1]:\n",
    "            self.lyr.append( Layer(n) )\n",
    "   \n",
    "        # For the top layer, we use the appropriate activtaion function\n",
    "        self.lyr.append( Layer(sizes[-1], act=activation) )\n",
    "    \n",
    "        # Randomly initialize weight matrices\n",
    " \n",
    "        for idx in range(self.n_layers-1):\n",
    "            #np.random.seed(idx)           # my code added to check with solution BackProp\n",
    "            m = self.lyr[idx].N\n",
    "            n = self.lyr[idx+1].N\n",
    "            temp = np.random.normal(size=[m,n])/np.sqrt(m)\n",
    "            self.W.append(temp)\n",
    "\n",
    "    def Evaluate(self, inputs, targets):\n",
    "        '''\n",
    "            E = net.Evaluate(data)\n",
    "\n",
    "            Computes the average loss over the supplied dataset.\n",
    "\n",
    "            Inputs\n",
    "             inputs  is an array of inputs\n",
    "             targets is a list of corresponding targets\n",
    "\n",
    "            Outputs\n",
    "             E is a scalar, the average loss\n",
    "        '''\n",
    "        y = self.FeedForward(inputs)\n",
    "        return self.Loss(y, targets)\n",
    "\n",
    "    def ClassificationAccuracy(self, inputs, targets):\n",
    "        '''\n",
    "            a = net.ClassificationAccuracy(data)\n",
    "            \n",
    "            Returns the fraction (between 0 and 1) of correct one-hot classifications\n",
    "            in the dataset.\n",
    "        '''\n",
    "        y = self.FeedForward(inputs)\n",
    "        yb = OneHot(y)\n",
    "        n_incorrect = np.sum(yb!=targets) / 2.\n",
    "        return 1. - float(n_incorrect) / NSamples(inputs)"
   ]
  },
  {
   "cell_type": "markdown",
   "metadata": {
    "ExecuteTime": {
     "end_time": "2020-02-02T21:09:20.635347Z",
     "start_time": "2020-02-02T21:09:20.626360Z"
    }
   },
   "source": [
    "#### Check FeedForward & BackProp Method"
   ]
  },
  {
   "cell_type": "code",
   "execution_count": 17,
   "metadata": {
    "ExecuteTime": {
     "end_time": "2020-02-05T22:56:00.774569Z",
     "start_time": "2020-02-05T22:56:00.766426Z"
    },
    "scrolled": false
   },
   "outputs": [],
   "source": [
    "# net = Network([8, 20, 5])\n",
    "\n",
    "# InputClasses = np.array([[1,0,1,0,0,1,1,0],\n",
    "#                          [0,1,0,1,0,1,0,1],\n",
    "#                          [0,1,1,0,1,0,0,1],\n",
    "#                          [1,0,0,0,1,0,1,1],\n",
    "#                          [1,0,0,1,0,1,0,1]], dtype=float)\n",
    "\n",
    "# OutputClasses = np.array([[1,0,0,0,0],\n",
    "#                           [0,1,0,0,0],\n",
    "#                           [0,0,1,0,0],\n",
    "#                           [0,0,0,1,0],\n",
    "#                           [0,0,0,0,1]], dtype=float)\n",
    "\n",
    "# my = net.FeedForward(InputClasses)\n",
    "# print('My feedforward result: ', my)\n",
    "\n",
    "# from a2_solutions import FeedForward;\n",
    "# sol = FeedForward(net, InputClasses)\n",
    "# print('Solution feedforward result: ', sol)"
   ]
  },
  {
   "cell_type": "code",
   "execution_count": 18,
   "metadata": {
    "ExecuteTime": {
     "end_time": "2020-02-05T22:56:01.668102Z",
     "start_time": "2020-02-05T22:56:01.656193Z"
    },
    "scrolled": false
   },
   "outputs": [],
   "source": [
    "# important: uncomment seed. in W initialization in Network Class (line 160)\n",
    "\n",
    "# net.BackProp(OutputClasses)\n",
    "# print('my W[0]: ', net.W[0])\n",
    "\n",
    "# net = Network([8, 20, 5])\n",
    "# from a2_solutions import BackProp\n",
    "# from a2_solutions import FeedForward;\n",
    "# FeedForward(net, InputClasses)\n",
    "# BackProp(net, OutputClasses)\n",
    "\n",
    "# print('solution W[0]: ', net.W[0])"
   ]
  },
  {
   "cell_type": "markdown",
   "metadata": {},
   "source": [
    "# Classification"
   ]
  },
  {
   "cell_type": "markdown",
   "metadata": {},
   "source": [
    "## Create a Classification Dataset"
   ]
  },
  {
   "cell_type": "code",
   "execution_count": 19,
   "metadata": {
    "ExecuteTime": {
     "end_time": "2020-02-05T22:56:04.542433Z",
     "start_time": "2020-02-05T22:56:04.514144Z"
    },
    "code_folding": []
   },
   "outputs": [],
   "source": [
    "# 5 Classes in 8-Dimensional Space\n",
    "np.random.seed(15)\n",
    "noise = 0.1\n",
    "InputClasses = np.array([[1,0,1,0,0,1,1,0],\n",
    "                         [0,1,0,1,0,1,0,1],\n",
    "                         [0,1,1,0,1,0,0,1],\n",
    "                         [1,0,0,0,1,0,1,1],\n",
    "                         [1,0,0,1,0,1,0,1]], dtype=float)\n",
    "OutputClasses = np.array([[1,0,0,0,0],\n",
    "                          [0,1,0,0,0],\n",
    "                          [0,0,1,0,0],\n",
    "                          [0,0,0,1,0],\n",
    "                          [0,0,0,0,1]], dtype=float)\n",
    "n_input = np.shape(InputClasses)[1]\n",
    "n_output = np.shape(OutputClasses)[1]\n",
    "n_classes = np.shape(InputClasses)[0]\n",
    "\n",
    "# Create a training dataset\n",
    "n_samples = 100\n",
    "training_output = []\n",
    "training_input = []\n",
    "for idx in range(n_samples):\n",
    "    k = np.random.randint(n_classes)\n",
    "    x = InputClasses[k,:] + np.random.normal(size=n_input)*noise\n",
    "    t = OutputClasses[k,:]\n",
    "    training_input.append(x)\n",
    "    training_output.append(t)\n",
    "\n",
    "# Create a test dataset\n",
    "n_samples = 100\n",
    "test_output = []\n",
    "test_input = []\n",
    "for idx in range(n_samples):\n",
    "    k = np.random.randint(n_classes)\n",
    "    x = InputClasses[k,:] + np.random.normal(size=n_input)*noise\n",
    "    t = OutputClasses[k,:]\n",
    "    test_input.append(x)\n",
    "    test_output.append(t)\n",
    "\n",
    "train = [np.array(training_input), np.array(training_output)]\n",
    "test = [np.array(test_input), np.array(test_output)]"
   ]
  },
  {
   "cell_type": "markdown",
   "metadata": {},
   "source": [
    "## Neural Network Model"
   ]
  },
  {
   "cell_type": "code",
   "execution_count": 20,
   "metadata": {
    "ExecuteTime": {
     "end_time": "2020-02-05T22:56:06.535865Z",
     "start_time": "2020-02-05T22:56:06.519239Z"
    }
   },
   "outputs": [],
   "source": [
    "# Create a Network\n",
    "net = Network([n_input, 18, n_output], type='classifier')"
   ]
  },
  {
   "cell_type": "code",
   "execution_count": 21,
   "metadata": {
    "ExecuteTime": {
     "end_time": "2020-02-05T22:56:07.531513Z",
     "start_time": "2020-02-05T22:56:07.473622Z"
    }
   },
   "outputs": [],
   "source": [
    "CE = net.Evaluate(train[0], train[1])"
   ]
  },
  {
   "cell_type": "code",
   "execution_count": 22,
   "metadata": {
    "ExecuteTime": {
     "end_time": "2020-02-05T22:56:09.543084Z",
     "start_time": "2020-02-05T22:56:09.515981Z"
    }
   },
   "outputs": [
    {
     "name": "stdout",
     "output_type": "stream",
     "text": [
      "Cross Entropy = -0.004357741397793621\n",
      "     Accuracy = 26.0%\n"
     ]
    }
   ],
   "source": [
    "# Evaluate it before training\n",
    "CE = net.Evaluate(train[0], train[1])\n",
    "accuracy = net.ClassificationAccuracy(train[0], train[1])\n",
    "print('Cross Entropy = '+str(CE))\n",
    "print('     Accuracy = '+str(accuracy*100.)+'%')"
   ]
  },
  {
   "cell_type": "code",
   "execution_count": 23,
   "metadata": {
    "ExecuteTime": {
     "end_time": "2020-02-05T22:56:11.501224Z",
     "start_time": "2020-02-05T22:56:11.319842Z"
    },
    "scrolled": true
   },
   "outputs": [],
   "source": [
    "net.Learn(train[0], train[1], epochs=500, lrate=1.);"
   ]
  },
  {
   "cell_type": "code",
   "execution_count": 24,
   "metadata": {
    "ExecuteTime": {
     "end_time": "2020-02-05T22:56:14.215824Z",
     "start_time": "2020-02-05T22:56:13.962390Z"
    }
   },
   "outputs": [
    {
     "data": {
      "image/png": "[encoded data removed]",
      "text/plain": [
       "<Figure size 432x288 with 1 Axes>"
      ]
     },
     "metadata": {
      "needs_background": "light"
     },
     "output_type": "display_data"
    }
   ],
   "source": [
    "plt.plot(net.cost_history);"
   ]
  },
  {
   "cell_type": "markdown",
   "metadata": {},
   "source": [
    "## Evaluate it After Training"
   ]
  },
  {
   "cell_type": "code",
   "execution_count": 25,
   "metadata": {
    "ExecuteTime": {
     "end_time": "2020-02-05T22:56:17.893123Z",
     "start_time": "2020-02-05T22:56:17.864202Z"
    }
   },
   "outputs": [
    {
     "name": "stdout",
     "output_type": "stream",
     "text": [
      "Training Set\n",
      "Cross Entropy = 0.0007147403052966453\n",
      "     Accuracy = 88.0%\n"
     ]
    }
   ],
   "source": [
    "print('Training Set')\n",
    "CE = net.Evaluate(train[0], train[1])\n",
    "accuracy = net.ClassificationAccuracy(train[0], train[1])\n",
    "print('Cross Entropy = '+str(CE))\n",
    "print('     Accuracy = '+str(accuracy*100.)+'%')"
   ]
  },
  {
   "cell_type": "code",
   "execution_count": 26,
   "metadata": {
    "ExecuteTime": {
     "end_time": "2020-02-05T22:56:20.580307Z",
     "start_time": "2020-02-05T22:56:20.564563Z"
    }
   },
   "outputs": [
    {
     "name": "stdout",
     "output_type": "stream",
     "text": [
      "Test Set\n",
      "Cross Entropy = 0.0008125122518933972\n",
      "     Accuracy = 85.0%\n"
     ]
    }
   ],
   "source": [
    "print('Test Set')\n",
    "CE = net.Evaluate(test[0], test[1])\n",
    "accuracy = net.ClassificationAccuracy(test[0], test[1])\n",
    "print('Cross Entropy = '+str(CE))\n",
    "print('     Accuracy = '+str(accuracy*100.)+'%')"
   ]
  },
  {
   "cell_type": "code",
   "execution_count": 29,
   "metadata": {
    "ExecuteTime": {
     "end_time": "2020-02-05T22:56:53.856256Z",
     "start_time": "2020-02-05T22:56:53.848576Z"
    },
    "scrolled": false
   },
   "outputs": [
    {
     "name": "stdout",
     "output_type": "stream",
     "text": [
      "[0.20350734 0.08559252 0.1073697  0.35206283 0.1817023 ]\n",
      "[0. 0. 0. 1. 0.]\n"
     ]
    }
   ],
   "source": [
    "p = np.random.randint(len(test[0]))\n",
    "print(net.FeedForward(test[0][p]))\n",
    "print(test[1][p])"
   ]
  },
  {
   "cell_type": "markdown",
   "metadata": {},
   "source": [
    "# Regression"
   ]
  },
  {
   "cell_type": "markdown",
   "metadata": {},
   "source": [
    "## Create a Regression Dataset"
   ]
  },
  {
   "cell_type": "code",
   "execution_count": 19,
   "metadata": {
    "ExecuteTime": {
     "end_time": "2020-02-05T02:02:43.988996Z",
     "start_time": "2020-02-05T02:02:43.947061Z"
    },
    "code_folding": []
   },
   "outputs": [],
   "source": [
    "# 1D -> 1D (linear mapping)\n",
    "np.random.seed(846)\n",
    "n_input = 1\n",
    "n_output = 1\n",
    "slope = np.random.rand() - 0.5\n",
    "intercept = np.random.rand()*2. - 1.\n",
    "\n",
    "def myfunc(x):\n",
    "    return slope*x+intercept\n",
    "\n",
    "# Create a training dataset\n",
    "n_samples = 200\n",
    "training_output = []\n",
    "training_input = []\n",
    "xv = np.linspace(-1, 1, n_samples)\n",
    "for idx in range(n_samples):\n",
    "    #x = np.random.rand()*2. - 1.\n",
    "    x = xv[idx]\n",
    "    t = myfunc(x) + np.random.normal(scale=0.1)\n",
    "    training_input.append(np.array([x]))\n",
    "    training_output.append(np.array([t]))\n",
    "\n",
    "# Create a testing dataset\n",
    "n_samples = 50\n",
    "test_input = []\n",
    "test_output = []\n",
    "xv = np.linspace(-1, 1, n_samples)\n",
    "for idx in range(n_samples):\n",
    "    #x = np.random.rand()*2. - 1.\n",
    "    x = xv[idx] + np.random.normal(scale=0.1)\n",
    "    t = myfunc(x) + np.random.normal(scale=0.1)\n",
    "    test_input.append(np.array([x]))\n",
    "    test_output.append(np.array([t]))\n",
    "\n",
    "# Create a perfect dataset\n",
    "n_samples = 100\n",
    "perfect_input = []\n",
    "perfect_output = []\n",
    "xv = np.linspace(-1, 1, n_samples)\n",
    "for idx in range(n_samples):\n",
    "    #x = np.random.rand()*2. - 1.\n",
    "    x = xv[idx]\n",
    "    t = myfunc(x)\n",
    "    perfect_input.append(np.array([x]))\n",
    "    perfect_output.append(np.array([t]))\n",
    "    \n",
    "train = [np.array(training_input), np.array(training_output)]\n",
    "test = [np.array(test_input), np.array(test_output)]\n",
    "perfect = [np.array(perfect_input), np.array(perfect_output)]"
   ]
  },
  {
   "cell_type": "markdown",
   "metadata": {},
   "source": [
    "## Neural Network Model"
   ]
  },
  {
   "cell_type": "code",
   "execution_count": 20,
   "metadata": {
    "ExecuteTime": {
     "end_time": "2020-02-05T02:02:45.949535Z",
     "start_time": "2020-02-05T02:02:45.938025Z"
    }
   },
   "outputs": [],
   "source": [
    "net = Network([1, 10, 1], type='regression')"
   ]
  },
  {
   "cell_type": "code",
   "execution_count": 21,
   "metadata": {
    "ExecuteTime": {
     "end_time": "2020-02-05T02:02:46.959058Z",
     "start_time": "2020-02-05T02:02:46.934884Z"
    }
   },
   "outputs": [
    {
     "name": "stdout",
     "output_type": "stream",
     "text": [
      "MSE = 0.0008938299039385374\n"
     ]
    }
   ],
   "source": [
    "# Evaluate it before training\n",
    "mse = net.Evaluate(train[0], train[1])\n",
    "print('MSE = '+str(mse))"
   ]
  },
  {
   "cell_type": "markdown",
   "metadata": {},
   "source": [
    "## Training"
   ]
  },
  {
   "cell_type": "code",
   "execution_count": 22,
   "metadata": {
    "ExecuteTime": {
     "end_time": "2020-02-05T02:02:49.436201Z",
     "start_time": "2020-02-05T02:02:49.348277Z"
    },
    "scrolled": true
   },
   "outputs": [],
   "source": [
    "net.Learn(train[0], train[1], epochs=300)"
   ]
  },
  {
   "cell_type": "code",
   "execution_count": 23,
   "metadata": {
    "ExecuteTime": {
     "end_time": "2020-02-05T02:02:50.756434Z",
     "start_time": "2020-02-05T02:02:50.584119Z"
    }
   },
   "outputs": [
    {
     "data": {
      "image/png": "[encoded data removed]",
      "text/plain": [
       "<Figure size 432x288 with 1 Axes>"
      ]
     },
     "metadata": {
      "needs_background": "light"
     },
     "output_type": "display_data"
    }
   ],
   "source": [
    "plt.plot(net.cost_history);"
   ]
  },
  {
   "cell_type": "markdown",
   "metadata": {},
   "source": [
    "## Evaluate it After Training"
   ]
  },
  {
   "cell_type": "code",
   "execution_count": 24,
   "metadata": {
    "ExecuteTime": {
     "end_time": "2020-02-05T02:02:59.072357Z",
     "start_time": "2020-02-05T02:02:59.060695Z"
    }
   },
   "outputs": [
    {
     "name": "stdout",
     "output_type": "stream",
     "text": [
      "Training MSE = 3.8267581596874215e-05\n"
     ]
    }
   ],
   "source": [
    "# On training dataset\n",
    "mse = net.Evaluate(train[0], train[1])\n",
    "print('Training MSE = '+str(mse))"
   ]
  },
  {
   "cell_type": "code",
   "execution_count": 25,
   "metadata": {
    "ExecuteTime": {
     "end_time": "2020-02-05T02:03:00.346022Z",
     "start_time": "2020-02-05T02:03:00.332183Z"
    }
   },
   "outputs": [
    {
     "name": "stdout",
     "output_type": "stream",
     "text": [
      "Test MSE = 0.00018528980133626936\n"
     ]
    }
   ],
   "source": [
    "# On test dataset\n",
    "mse = net.Evaluate(test[0], test[1])\n",
    "print('Test MSE = '+str(mse))"
   ]
  },
  {
   "cell_type": "code",
   "execution_count": 26,
   "metadata": {
    "ExecuteTime": {
     "end_time": "2020-02-05T02:03:01.979537Z",
     "start_time": "2020-02-05T02:03:01.964535Z"
    }
   },
   "outputs": [],
   "source": [
    "# Evaluate our model and the TRUE solution (since we know it)\n",
    "s = np.linspace(-1, 1, 200)\n",
    "y = net.FeedForward(np.array([s]).T)\n",
    "p = [myfunc(x) for x in s]"
   ]
  },
  {
   "cell_type": "code",
   "execution_count": 27,
   "metadata": {
    "ExecuteTime": {
     "end_time": "2020-02-05T02:03:03.378657Z",
     "start_time": "2020-02-05T02:03:03.164948Z"
    }
   },
   "outputs": [
    {
     "data": {
      "image/png": "[encoded data removed]",
      "text/plain": [
       "<Figure size 432x288 with 1 Axes>"
      ]
     },
     "metadata": {
      "needs_background": "light"
     },
     "output_type": "display_data"
    }
   ],
   "source": [
    "# Plot the training data,\n",
    "# as well as out model and the true model\n",
    "plt.plot(training_input, training_output, 'b.')\n",
    "plt.plot(s,p, 'g--', linewidth=2)\n",
    "plt.plot(s,y, 'r--', linewidth=3)\n",
    "plt.xlabel('Input')\n",
    "plt.ylabel('Output');"
   ]
  },
  {
   "cell_type": "code",
   "execution_count": 13,
   "metadata": {
    "ExecuteTime": {
     "end_time": "2020-02-05T22:55:33.303877Z",
     "start_time": "2020-02-05T22:55:33.296168Z"
    }
   },
   "outputs": [],
   "source": [
    "AA = np.array([5, 2, 3, 4])"
   ]
  },
  {
   "cell_type": "code",
   "execution_count": 14,
   "metadata": {
    "ExecuteTime": {
     "end_time": "2020-02-05T22:55:33.958006Z",
     "start_time": "2020-02-05T22:55:33.949524Z"
    }
   },
   "outputs": [
    {
     "data": {
      "text/plain": [
       "array([1, 5, 2, 3, 4])"
      ]
     },
     "execution_count": 14,
     "metadata": {},
     "output_type": "execute_result"
    }
   ],
   "source": [
    "np.append(1, AA)"
   ]
  },
  {
   "cell_type": "code",
   "execution_count": null,
   "metadata": {},
   "outputs": [],
   "source": []
  }
 ],
 "metadata": {
  "kernelspec": {
   "display_name": "Python 3",
   "language": "python",
   "name": "python3"
  },
  "language_info": {
   "codemirror_mode": {
    "name": "ipython",
    "version": 3
   },
   "file_extension": ".py",
   "mimetype": "text/x-python",
   "name": "python",
   "nbconvert_exporter": "python",
   "pygments_lexer": "ipython3",
   "version": "3.7.3"
  },
  "toc": {
   "nav_menu": {},
   "number_sections": true,
   "sideBar": true,
   "skip_h1_title": false,
   "title_cell": "Table of Contents",
   "title_sidebar": "Contents",
   "toc_cell": false,
   "toc_position": {},
   "toc_section_display": true,
   "toc_window_display": false
  }
 },
 "nbformat": 4,
 "nbformat_minor": 2
}
