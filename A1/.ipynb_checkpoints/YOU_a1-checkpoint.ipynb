{
 "cells": [
  {
   "cell_type": "markdown",
   "metadata": {},
   "source": [
    "# A1"
   ]
  },
  {
   "cell_type": "code",
   "execution_count": 1,
   "metadata": {
    "ExecuteTime": {
     "end_time": "2020-01-17T17:25:26.641414Z",
     "start_time": "2020-01-17T17:25:23.422283Z"
    },
    "code_folding": []
   },
   "outputs": [],
   "source": [
    "# Standard imports\n",
    "import numpy as np\n",
    "import math\n",
    "import matplotlib.pyplot as plt\n",
    "%matplotlib inline"
   ]
  },
  {
   "cell_type": "markdown",
   "metadata": {},
   "source": [
    "### Some solutions (optional)"
   ]
  },
  {
   "cell_type": "code",
   "execution_count": 2,
   "metadata": {
    "ExecuteTime": {
     "end_time": "2020-01-17T17:25:26.652707Z",
     "start_time": "2020-01-17T17:25:26.645733Z"
    }
   },
   "outputs": [],
   "source": [
    "# RUN THIS CELL ONLY IF YOU WANT TO USE THE SOLUTIONS THROUGHOUT\n",
    "from a1_solutions import *"
   ]
  },
  {
   "cell_type": "code",
   "execution_count": 3,
   "metadata": {
    "ExecuteTime": {
     "end_time": "2020-01-17T17:25:26.664116Z",
     "start_time": "2020-01-17T17:25:26.658131Z"
    }
   },
   "outputs": [],
   "source": [
    "# Run this cell if you want to be able to run functions from the solutions, like this...\n",
    "# lif_a = solutions.LIFNeuron()\n",
    "import a1_solutions as solutions"
   ]
  },
  {
   "cell_type": "markdown",
   "metadata": {},
   "source": [
    "## Some supplied helper functions"
   ]
  },
  {
   "cell_type": "code",
   "execution_count": 4,
   "metadata": {
    "ExecuteTime": {
     "end_time": "2020-01-17T17:25:27.001384Z",
     "start_time": "2020-01-17T17:25:26.953245Z"
    },
    "code_folding": []
   },
   "outputs": [],
   "source": [
    "def PlotSpikeRaster(st, y_range=[0, 1.]):\n",
    "    '''\n",
    "    PlotSpikeRaster(spiketimes, y_range=[0, 1.])\n",
    "\n",
    "    Plots a spike raster plot for a list of arrays of spike times.\n",
    "\n",
    "    Input:\n",
    "      spiketimes is a list of arrays of spike times, like that returned\n",
    "          by the function Stim2Spikes.\n",
    "      y_range is a 2-tuple that holds the y-values that the raster ticks\n",
    "          should be drawn between\n",
    "    '''\n",
    "    N = len(st)  # number of neurons\n",
    "\n",
    "    #levels = np.linspace(y_range[0], y_range[1], N+1, endpoint=True)\n",
    "    levels = np.linspace(y_range[1], y_range[0], N+1, endpoint=True)\n",
    "    for n in range(N):\n",
    "        nspikes = len(st[n])\n",
    "        #y = [ [levels[n]]*nspikes , [levels[n+1]]*nspikes ]\n",
    "        y = [ [levels[n+1]]*nspikes , [levels[n]]*nspikes ]\n",
    "        #y = y_range[0] + [levels[n]]*nspikes\n",
    "        plt.plot(np.vstack((st[n],st[n])), y, color=np.random.rand(3))\n",
    "    plt.ylim(y_range)\n",
    "    plt.xlabel('Time (s)')\n",
    "    return\n",
    "\n",
    "\n",
    "def GenerateSpikeTrain(rates, T, jitter=0.):\n",
    "    '''\n",
    "    spike_times = GenerateSpikeTrain(rates, T)\n",
    "    \n",
    "    Creates a spike train (as an array of time stamps).\n",
    "    \n",
    "    Input:\n",
    "    rates is an array or list of firing rates (in Hz), one\n",
    "        firing rate for each interval.\n",
    "    T is an array or list (the same size as 'rates') that gives\n",
    "        the time to end each interval\n",
    "    jitter is a scalar that determines how much the spikes\n",
    "        are randomly moved\n",
    "        \n",
    "    Output:\n",
    "    spike_times is an array of times when spikes occurred\n",
    "    \n",
    "    Example: To create a spike train of 10Hz for 0.5s, followed\n",
    "             by 25Hz that starts at 0.5s and ends at 2s, use\n",
    "             \n",
    "               GenerateSpikeTrain([10, 25], [0.5, 2])\n",
    "    '''\n",
    "    s = []\n",
    "    t = 0.\n",
    "    for idx in range(0,len(rates)):\n",
    "        Trange = T[idx] - t\n",
    "        if rates[idx]!=0:\n",
    "            delta = 1. / rates[idx]\n",
    "            N = rates[idx] * Trange\n",
    "            times = np.arange(t+delta/2., T[idx], delta)\n",
    "            times += np.random.normal(scale=delta*jitter, size=np.shape(times))\n",
    "            s.extend(times)\n",
    "        t = T[idx]\n",
    "    s.sort()\n",
    "    return np.array(s)\n",
    "\n",
    "\n",
    "class InputNeuron(object):\n",
    "    \n",
    "    def __init__(self, spiketrain):\n",
    "        '''\n",
    "        InputNeuron(spiketrain)\n",
    "        \n",
    "        Constructor for InputNeuron class.\n",
    "        \n",
    "        InputNeuron is a class of neuron that can be used to inject spikes into\n",
    "        the network. When involved in a simulation, an InputNeuron will generate\n",
    "        spikes at the times specified during its construction.\n",
    "        \n",
    "        Inputs:\n",
    "         spiketrain is an array or list of spike times\n",
    "        '''\n",
    "        self.spikes = np.array(spiketrain)\n",
    "        self.idx = []  # List index, when added to a network\n",
    "\n",
    "    def SpikesBetween(self, t_start, t_end):\n",
    "        '''\n",
    "        numspikes = InputNeuron.SpikesBetween(t_start, t_end)\n",
    "        \n",
    "        Returns the number of times the neuron spiked between t_start and t_end.\n",
    "        Specifically, it counts a spike if it occurred at t, where\n",
    "        t_start <= t < t_end\n",
    "        '''\n",
    "        sp_bool = np.logical_and( np.array(self.spikes)>=t_start, np.array(self.spikes)<t_end )\n",
    "        return np.sum(sp_bool)\n",
    "    \n",
    "    def Set_idx(self, idx):\n",
    "        self.idx = idx\n",
    "    def Get_idx(self):\n",
    "        '''\n",
    "         idx = InputNeuron.Get_idx()\n",
    "         \n",
    "         Returns the index of the neuron in its network.\n",
    "        '''\n",
    "        return self.idx\n",
    "    \n",
    "    def Slope(self):\n",
    "        return\n",
    "    \n",
    "    def Step(self, dt):\n",
    "        return\n",
    "    \n",
    "    def Get_spikes(self):\n",
    "        return self.spikes"
   ]
  },
  {
   "cell_type": "markdown",
   "metadata": {},
   "source": [
    "### Example use"
   ]
  },
  {
   "cell_type": "code",
   "execution_count": 5,
   "metadata": {
    "ExecuteTime": {
     "end_time": "2020-01-17T17:25:28.973105Z",
     "start_time": "2020-01-17T17:25:28.596265Z"
    }
   },
   "outputs": [
    {
     "data": {
      "image/png": "[encoded data removed]",
      "text/plain": [
       "<Figure size 432x288 with 1 Axes>"
      ]
     },
     "metadata": {
      "needs_background": "light"
     },
     "output_type": "display_data"
    }
   ],
   "source": [
    "spikes = GenerateSpikeTrain([10, 25], [0.2, 0.5])  # Generates a specified spike train\n",
    "PlotSpikeRaster([spikes])"
   ]
  },
  {
   "cell_type": "code",
   "execution_count": 6,
   "metadata": {
    "ExecuteTime": {
     "end_time": "2020-01-17T17:25:29.550956Z",
     "start_time": "2020-01-17T17:25:29.535586Z"
    }
   },
   "outputs": [
    {
     "name": "stdout",
     "output_type": "stream",
     "text": [
      "[0.05 0.15 0.22 0.26 0.3  0.34 0.38 0.42 0.46 0.5 ]\n",
      "3\n"
     ]
    }
   ],
   "source": [
    "neur_in = InputNeuron(spikes)\n",
    "print(neur_in.Get_spikes())  # Spike times\n",
    "print(neur_in.SpikesBetween(0.3,0.4)) # Number of spikes between 0.3 and 0.4"
   ]
  },
  {
   "cell_type": "markdown",
   "metadata": {},
   "source": [
    "# Q1: Implementing `LIFNeuron` Class"
   ]
  },
  {
   "cell_type": "markdown",
   "metadata": {},
   "source": [
    "## `LIFNeuron` class"
   ]
  },
  {
   "cell_type": "code",
   "execution_count": 12,
   "metadata": {
    "ExecuteTime": {
     "end_time": "2020-01-17T17:34:57.050970Z",
     "start_time": "2020-01-17T17:34:56.994475Z"
    },
    "code_folding": []
   },
   "outputs": [],
   "source": [
    "class LIFNeuron(object):\n",
    "\n",
    "    def __init__(self, Tau_m=0.02, Tau_ref=0.002, Tau_s=0.05):\n",
    "        '''\n",
    "        LIFNeuron(Tau_m=0.02, Tau_ref=0.002, Tau_s=0.05)\n",
    "        \n",
    "        Constructor for LIFNeuron class\n",
    "        \n",
    "        Inputs:\n",
    "         Tau_m   membrane time constant, in seconds (s)\n",
    "         Tau_ref refractory period (s)\n",
    "         Tau_s   synaptic time constant (s)\n",
    "        '''\n",
    "        self.tau_m = Tau_m      # membrane time constant\n",
    "        self.tau_ref = Tau_ref  # refractory period\n",
    "        self.tau_s = Tau_s      # synaptic time constant\n",
    "        self.v = 0.             # sub-threshold membrane potential (voltage)\n",
    "        self.s = 0.            # post-synaptic current (PSC)\n",
    "        self.t = 0.             # current time\n",
    "        self.dvdt = 0.          # slope of v (w.r.t. time)\n",
    "        self.dsdt = 0.          # slope of s (w.r.t. time)\n",
    "        \n",
    "        self.idx = []           # List index, when added to a network\n",
    "        \n",
    "        self.weighted_incoming_spikes = 0.  # weighted sum of incoming spikes (for one time step)\n",
    "        self.ref_remaining = 0. # amount of time remaining in the refractory period\n",
    "        \n",
    "        # For plotting\n",
    "        self.v_history = []     # records v over time\n",
    "        self.s_history = []\n",
    "        self.spikes = []        # list of times when this neuron spiked\n",
    "        \n",
    "\n",
    "    # A bunch of set and get functions.\n",
    "    def Set_v(self, v):\n",
    "        self.v = v \n",
    "    def Get_v(self):\n",
    "        return self.v\n",
    "    def Set_s(self, s):\n",
    "        self.s = s\n",
    "    def Get_s(self):\n",
    "        return self.s\n",
    "    def Set_ref_remaining(self, ref_remaining):\n",
    "        self.ref_remaining = ref_remaining\n",
    "    def Get_ref_remaining(self):\n",
    "        return self.ref_remaining\n",
    "    def Set_idx(self, idx):\n",
    "        self.idx = idx\n",
    "    def Get_idx(self):\n",
    "        return self.idx\n",
    "    def Get_spikes(self):\n",
    "        return self.spikes\n",
    "    def Set_t(self, t):\n",
    "        self.t = t\n",
    "    def Get_v_history(self):\n",
    "        return self.v_history\n",
    "    \n",
    "    def SpikesBetween(self, t_start, t_end):\n",
    "        '''\n",
    "        numspikes = LIFNeuron.SpikesBetween(t_start, t_end)\n",
    "        \n",
    "        Returns the number of times the neuron spiked between t_start and t_end.\n",
    "        Specifically, it counts a spike if it occurred at t, where\n",
    "        t_start <= t < t_end\n",
    "        '''\n",
    "        sp_bool = np.logical_and( np.array(self.spikes)>=t_start, np.array(self.spikes)<t_end )\n",
    "        return np.sum(sp_bool)\n",
    "    \n",
    "    def Slope(self):\n",
    "        '''\n",
    "        LIFNeuron.Slope()\n",
    "        \n",
    "        Evaluates the right-hand side of the differential equations that\n",
    "        govern v and s. The slopes get stored in the internal variables\n",
    "          self.dvdt, and\n",
    "          self.dsdt\n",
    "        '''\n",
    "        #===== REPLACE THE CODE BELOW =====\n",
    "        #self.dvdt = 0.\n",
    "        #self.dsdt = 0.\n",
    "        \n",
    "        self.dvdt = (1 / self.tau_m) * (self.s - self.v)\n",
    "        self.dsdt = -(1 / self.tau_s) * self.s\n",
    "        \n",
    "        \n",
    "    def Step(self, dt):\n",
    "        '''\n",
    "        LIFNeuron.Step(dt)\n",
    "        \n",
    "        Updates the LIF neuron state by taking an Euler step in v and s.\n",
    "        The length of the step is dt seconds.\n",
    "        If v reaches the threshold of 1, the neuron fires an action potential\n",
    "        (spike). Linear interpolation should be used to estimate the time that v=1.\n",
    "        The spike time is appended to the list self.spikes, and v\n",
    "        is set to zero. After a spike, the neuron is dormant for self.tau_ref\n",
    "        seconds.\n",
    "        \n",
    "        '''\n",
    "        #==== PLACE YOUR CODE HERE ====\n",
    "        self.s += self.dsdt * dt \n",
    "        #upon recieving an spike\n",
    "        self.s += (1 / self.tau_s) * self.weighted_incoming_spikes\n",
    "        \n",
    "        dtt = dt - self.ref_remaining\n",
    "        \n",
    "        if dtt >= 0.:\n",
    "            self.v += self.dvdt * dtt\n",
    "            self.ref_remaining = 0\n",
    "\n",
    "        else:\n",
    "            self.ref_remaining -= dt\n",
    "        \n",
    "        if self.v >= 1:\n",
    "            tSpike = (1 - self.v) / self.dvdt + dtt\n",
    "            self.spikes.append(self.t + tSpike)\n",
    "            self.v = 0.\n",
    "            self.dvdt = 0.\n",
    "            self.ref_remaining = self.tau_ref - (dtt - tSpike)\n",
    "        \n",
    "        self.t += dt\n",
    "        \n",
    "        # Store v (for plotting), and reset incoming spike accumulator\n",
    "        self.v_history.append(self.v)\n",
    "        self.weighted_incoming_spikes = 0.\n",
    "        \n",
    "        \n",
    "        \n",
    "    def ReceiveSpike(self, w):\n",
    "        '''\n",
    "        LIFNeuron.ReceiveSpike(w)\n",
    "        \n",
    "        Registers the arrival of a spike from a presynaptic neuron. The\n",
    "        member variable self.weighted_incoming_spikes keeps track of all\n",
    "        the incoming spikes, each weighted by their respective connection\n",
    "        weights. It is sufficient to add them all together to tabulate the\n",
    "        total incoming weighted spikes (from all presynaptic neurons).\n",
    "        \n",
    "        Input:\n",
    "         w    is the connection weight from the presynaptic neuron.\n",
    "        '''\n",
    "        self.weighted_incoming_spikes += w\n",
    "        \n",
    "        \n",
    "    def ShowState(self):\n",
    "        '''\n",
    "         LIFNeuron.ShowState()\n",
    "         \n",
    "         Prints the current time, membrane potential, input current, and\n",
    "         remaining refractory time.\n",
    "        '''\n",
    "        print('{0:6.4f}s: s={1:5.3f}, v={2:6.4f}, ref remaining={3:7.5f}'.format(self.t, self.s, self.v, self.ref_remaining))\n"
   ]
  },
  {
   "cell_type": "markdown",
   "metadata": {},
   "source": [
    "## Tests"
   ]
  },
  {
   "cell_type": "markdown",
   "metadata": {},
   "source": [
    "The test below should yield,\n",
    "\n",
    "    0.0000s: s=0.000, v=0.0000, ref remaining=0.00000\n",
    "    0.0010s: s=0.600, v=0.0000, ref remaining=0.00000\n",
    "    0.0020s: s=0.588, v=0.0300, ref remaining=0.00000"
   ]
  },
  {
   "cell_type": "code",
   "execution_count": 13,
   "metadata": {
    "ExecuteTime": {
     "end_time": "2020-01-17T17:34:59.737627Z",
     "start_time": "2020-01-17T17:34:59.726524Z"
    }
   },
   "outputs": [
    {
     "name": "stdout",
     "output_type": "stream",
     "text": [
      "0.0000s: s=0.000, v=0.0000, ref remaining=0.00000\n",
      "0.0010s: s=0.600, v=0.0000, ref remaining=0.00000\n",
      "0.0020s: s=0.588, v=0.0300, ref remaining=0.00000\n"
     ]
    }
   ],
   "source": [
    "lif_a = LIFNeuron(Tau_m=0.02, Tau_ref=0.002, Tau_s=0.05)\n",
    "\n",
    "# If you want to run the version from the supplied solutions, use\n",
    "# the line below instead.\n",
    "#lif_a = solutions.LIFNeuron(Tau_m=0.02, Tau_ref=0.002, Tau_s=0.05)\n",
    "\n",
    "lif_a.ReceiveSpike(0.03)\n",
    "lif_a.ShowState()\n",
    "lif_a.Slope()\n",
    "lif_a.Step(0.001)\n",
    "lif_a.ShowState()\n",
    "lif_a.Slope()\n",
    "lif_a.Step(0.001)\n",
    "lif_a.ShowState()"
   ]
  },
  {
   "cell_type": "markdown",
   "metadata": {},
   "source": [
    "The test below should yield,\n",
    "\n",
    "    0.0000s: s=0.500, v=0.0000, ref remaining=0.00150\n",
    "    0.0010s: s=0.490, v=0.0000, ref remaining=0.00050\n",
    "    0.0020s: s=0.480, v=0.0123, ref remaining=0.00000"
   ]
  },
  {
   "cell_type": "code",
   "execution_count": 14,
   "metadata": {
    "ExecuteTime": {
     "end_time": "2020-01-17T17:35:05.247515Z",
     "start_time": "2020-01-17T17:35:05.224174Z"
    }
   },
   "outputs": [
    {
     "name": "stdout",
     "output_type": "stream",
     "text": [
      "0.0000s: s=0.500, v=0.0000, ref remaining=0.00150\n",
      "0.0010s: s=0.490, v=0.0000, ref remaining=0.00050\n",
      "0.0020s: s=0.480, v=0.0123, ref remaining=0.00000\n"
     ]
    }
   ],
   "source": [
    "lif_a = LIFNeuron(Tau_m=0.02, Tau_ref=0.002, Tau_s=0.05)\n",
    "lif_a.Set_v(0.)\n",
    "lif_a.Set_s(0.5)\n",
    "lif_a.Set_ref_remaining(0.0015)\n",
    "lif_a.ShowState()\n",
    "lif_a.Slope(); lif_a.Step(0.001)\n",
    "lif_a.ShowState()\n",
    "lif_a.Slope(); lif_a.Step(0.001)\n",
    "lif_a.ShowState()"
   ]
  },
  {
   "cell_type": "markdown",
   "metadata": {},
   "source": [
    "The test below should yield,\n",
    "\n",
    "    0.3000s: s=1.300, v=0.9800, ref remaining=0.00000\n",
    "    0.3010s: s=1.274, v=0.9960, ref remaining=0.00000\n",
    "    0.3020s: s=1.249, v=1.0000, ref remaining=0.00129\n",
    "    0.3030s: s=1.224, v=0.0000, ref remaining=0.00029\n",
    "    0.3040s: s=1.199, v=0.0436, ref remaining=0.00000\n",
    "    Spike occurred at 0.30129 seconds"
   ]
  },
  {
   "cell_type": "code",
   "execution_count": 15,
   "metadata": {
    "ExecuteTime": {
     "end_time": "2020-01-17T17:35:10.353906Z",
     "start_time": "2020-01-17T17:35:10.326132Z"
    }
   },
   "outputs": [
    {
     "name": "stdout",
     "output_type": "stream",
     "text": [
      "0.3000s: s=1.300, v=0.9800, ref remaining=0.00000\n",
      "0.3010s: s=1.274, v=0.9960, ref remaining=0.00000\n",
      "0.3020s: s=1.249, v=0.0000, ref remaining=0.00129\n",
      "0.3030s: s=1.224, v=0.0000, ref remaining=0.00029\n",
      "0.3040s: s=1.199, v=0.0436, ref remaining=0.00000\n",
      "Spike occurred at 0.30129 seconds\n"
     ]
    }
   ],
   "source": [
    "lif_a = LIFNeuron(Tau_m=0.02, Tau_ref=0.002, Tau_s=0.05)\n",
    "lif_a.Set_t(0.3)\n",
    "lif_a.Set_v(0.98)\n",
    "lif_a.Set_s(1.3)\n",
    "dt = 0.001\n",
    "lif_a.ShowState()\n",
    "lif_a.Slope(); lif_a.Step(dt); lif_a.ShowState()\n",
    "lif_a.Slope(); lif_a.Step(dt); lif_a.ShowState()\n",
    "lif_a.Slope(); lif_a.Step(dt); lif_a.ShowState()\n",
    "lif_a.Slope(); lif_a.Step(dt); lif_a.ShowState()\n",
    "if len(lif_a.Get_spikes())>0:\n",
    "    print('Spike occurred at {0:.5g} seconds'.format(lif_a.Get_spikes()[-1]))"
   ]
  },
  {
   "cell_type": "markdown",
   "metadata": {},
   "source": [
    "# Q2: Implementing `SpikingNetwork`"
   ]
  },
  {
   "cell_type": "markdown",
   "metadata": {},
   "source": [
    "## `SpikingNetwork` Class"
   ]
  },
  {
   "cell_type": "code",
   "execution_count": 9,
   "metadata": {},
   "outputs": [],
   "source": [
    "class SpikingNetwork(object):\n",
    "    \n",
    "    def __init__(self):\n",
    "        '''\n",
    "        SpikingNetwork()\n",
    "        \n",
    "        Constructor for SpikingNetwork class.\n",
    "        \n",
    "        The SpikingNetwork class contains a collection of neurons,\n",
    "        and the connections between those neurons.\n",
    "        '''\n",
    "        self.neurons = []      # List of neurons (of various kinds)\n",
    "        self.connections = []  # List of connections\n",
    "        self.t_history = []    # List of time stamps for the Euler steps\n",
    "                               # (Useful for plotting)\n",
    "        \n",
    "    def GetNeuron(self, idx):\n",
    "        '''\n",
    "         neur = SpikingNetwork.GetNeuron(idx)\n",
    "         \n",
    "         Returns the Neuron object at index idx.\n",
    "        '''\n",
    "        return self.neurons[idx]\n",
    "    \n",
    "    def GetConnection(self, c):\n",
    "        '''\n",
    "         con = SpikingNetwork.GetConnection(c)\n",
    "        '''\n",
    "        return self.connections[c]\n",
    "    \n",
    "    def AddNeuron(self, neur):\n",
    "        '''\n",
    "        SpikingNetwork.AddNeuron(neuron)\n",
    "        \n",
    "        Adds a neuron to the network.\n",
    "        \n",
    "        Input:\n",
    "         neuron is an object of type LIFNeuron or InputNeuron\n",
    "        '''\n",
    "        self.neurons.append(neur)\n",
    "        neur.idx = len(self.neurons)-1\n",
    "        \n",
    "    def Connect(self, pre, post, w):\n",
    "        '''\n",
    "        SpikingNetwork.Connect(pre, post, w)\n",
    "        \n",
    "        Connects neuron 'pre' to neuron 'post' with a connection\n",
    "        weigth of w.\n",
    "        \n",
    "        Each \"connection\" is stored as a list of 3 numbers of the form:\n",
    "         [ pre_idx, post_idx, weight ]\n",
    "        where\n",
    "         pre_idx is the list index of the pre-synaptic neuron,\n",
    "         post_idx is the list index of the post-synaptic neuron, and\n",
    "         weight is the connection weight.\n",
    "        eg. self.connections = [[0,1,0.05], [1,2,0.04], [1,0,-0.2]]\n",
    "        '''\n",
    "        self.connections.append([pre, post, w])\n",
    "        \n",
    "        \n",
    "    def Simulate(self, T, dt):\n",
    "        '''\n",
    "        SpikingNetwork.Simulate(T, dt)\n",
    "        \n",
    "        Simulates the network for T seconds by taking Euler steps\n",
    "        of size dt.\n",
    "        \n",
    "        Inputs:\n",
    "         T    how long to integrate for\n",
    "         dt   time step for Euler's method\n",
    "        '''\n",
    "        \n",
    "        # This code takes care of recording time samples in a way\n",
    "        # that allows continuation. You needn't fuss over this code.\n",
    "        current = 0 if len(self.t_history)==0 else self.t_history[-1]\n",
    "        t_segment = np.arange(current, current+T, dt)\n",
    "        \n",
    "        \n",
    "        #==== HERE IS WHERE YOUR CODE STARTS ====\n",
    "        \n",
    "        # Loop over time steps (I've set that up for you)\n",
    "        for tt in t_segment:\n",
    "            self.t_history.append(tt)  # Record time stamp\n",
    "            \n",
    "            \n",
    "        #==== PLACE YOUR CODE HERE ====\n",
    "\n",
    "        \n",
    "        \n",
    "    def AllSpikeTimes(self):\n",
    "        '''\n",
    "        SpikingNetwork.AllSpikeTimes()\n",
    "        \n",
    "        Returns all the spikes of all the neurons in the network.\n",
    "        Useful for making spike-raster plots of network activity.\n",
    "        \n",
    "        Output:\n",
    "         all_spikes  a list of sublists, where each sublist holds\n",
    "                     the spike times of one of the neurons\n",
    "        '''\n",
    "        blah = []\n",
    "        for neur in self.neurons:\n",
    "            blah.append(np.array(neur.Get_spikes()))\n",
    "        return blah"
   ]
  },
  {
   "cell_type": "markdown",
   "metadata": {},
   "source": [
    "### Test"
   ]
  },
  {
   "cell_type": "code",
   "execution_count": 10,
   "metadata": {},
   "outputs": [],
   "source": [
    "# This will create a small network to test on. This network is shown in Fig. 1(a).\n",
    "net = SpikingNetwork()\n",
    "A = LIFNeuron(Tau_s=0.1)  # Create a LIF neuron\n",
    "in1 = InputNeuron( GenerateSpikeTrain([30], [1]) )  # Create an input neuron\n",
    "\n",
    "net.AddNeuron(A)  # Neuron 0 (uses default values for tau_m and tau_ref)\n",
    "net.AddNeuron(in1)  # Input neuron generates 30 Hz spike train\n",
    "net.Connect(in1.Get_idx(), A.Get_idx(), 0.05)  # Connection from neuron 1 to neuron 0\n",
    "\n",
    "net.Simulate(1, 0.001) # Simulate for 1 second"
   ]
  },
  {
   "cell_type": "code",
   "execution_count": null,
   "metadata": {},
   "outputs": [],
   "source": [
    "# Plot the membrane potential of net.neuron[0]\n",
    "plt.plot(net.t_history, net.GetNeuron(0).Get_v_history());\n",
    "plt.xlabel('Time (s)')\n",
    "plt.ylabel('Membrane Potential');"
   ]
  },
  {
   "cell_type": "code",
   "execution_count": 18,
   "metadata": {
    "scrolled": true
   },
   "outputs": [
    {
     "data": {
      "image/png": "[encoded data removed]",
      "text/plain": [
       "<Figure size 432x288 with 1 Axes>"
      ]
     },
     "metadata": {
      "needs_background": "light"
     },
     "output_type": "display_data"
    }
   ],
   "source": [
    "# Plot the spike rasters for all the neurons in the network.\n",
    "PlotSpikeRaster( net.AllSpikeTimes() )"
   ]
  },
  {
   "cell_type": "markdown",
   "metadata": {},
   "source": [
    "# Q3: Experiments with Spiking Networks"
   ]
  },
  {
   "cell_type": "markdown",
   "metadata": {},
   "source": [
    "## (a) LIF Firing Rate Curve"
   ]
  },
  {
   "cell_type": "code",
   "execution_count": 13,
   "metadata": {},
   "outputs": [],
   "source": [
    "# i.\n"
   ]
  },
  {
   "cell_type": "code",
   "execution_count": 14,
   "metadata": {},
   "outputs": [],
   "source": [
    "# ii.\n"
   ]
  },
  {
   "cell_type": "code",
   "execution_count": 21,
   "metadata": {},
   "outputs": [],
   "source": [
    "# iii.\n"
   ]
  },
  {
   "cell_type": "markdown",
   "metadata": {},
   "source": [
    "## (b) Two LIF Neurons"
   ]
  },
  {
   "cell_type": "code",
   "execution_count": 16,
   "metadata": {},
   "outputs": [],
   "source": [
    "# i.\n"
   ]
  },
  {
   "cell_type": "code",
   "execution_count": 22,
   "metadata": {},
   "outputs": [],
   "source": [
    "# ii.\n"
   ]
  },
  {
   "cell_type": "markdown",
   "metadata": {},
   "source": [
    "## (c) Three LIF Neurons: Inhibition"
   ]
  },
  {
   "cell_type": "code",
   "execution_count": 23,
   "metadata": {},
   "outputs": [],
   "source": [
    "# i.\n"
   ]
  },
  {
   "cell_type": "code",
   "execution_count": 24,
   "metadata": {},
   "outputs": [],
   "source": [
    "# ii.\n"
   ]
  },
  {
   "cell_type": "markdown",
   "metadata": {},
   "source": [
    "### iii."
   ]
  },
  {
   "cell_type": "markdown",
   "metadata": {},
   "source": [
    "Your answer here. (double-click)\n"
   ]
  },
  {
   "cell_type": "markdown",
   "metadata": {},
   "source": [
    "## (d) Ring Oscillator"
   ]
  },
  {
   "cell_type": "code",
   "execution_count": 26,
   "metadata": {},
   "outputs": [],
   "source": [
    "# i.\n"
   ]
  },
  {
   "cell_type": "code",
   "execution_count": 27,
   "metadata": {},
   "outputs": [],
   "source": [
    "# ii.\n"
   ]
  },
  {
   "cell_type": "code",
   "execution_count": 28,
   "metadata": {},
   "outputs": [],
   "source": [
    "# iii.\n"
   ]
  },
  {
   "cell_type": "code",
   "execution_count": 25,
   "metadata": {
    "scrolled": false
   },
   "outputs": [],
   "source": [
    "# iv.\n"
   ]
  },
  {
   "cell_type": "markdown",
   "metadata": {},
   "source": [
    "=== YOUR ANSWER HERE ===\n"
   ]
  },
  {
   "cell_type": "markdown",
   "metadata": {},
   "source": [
    "# Q4: Neural Activation Functions"
   ]
  },
  {
   "cell_type": "markdown",
   "metadata": {},
   "source": [
    "## (a) ReLU derivative"
   ]
  },
  {
   "cell_type": "markdown",
   "metadata": {},
   "source": [
    "\\begin{align}\n",
    "f(x) &= ReLU(x) \\\\\n",
    "&= \\ldots\n",
    "\\end{align}\n"
   ]
  },
  {
   "cell_type": "markdown",
   "metadata": {},
   "source": [
    "## (b.i) Logistic"
   ]
  },
  {
   "cell_type": "code",
   "execution_count": 26,
   "metadata": {},
   "outputs": [],
   "source": [
    "# Plot\n"
   ]
  },
  {
   "cell_type": "markdown",
   "metadata": {},
   "source": [
    "YOUR ANSWER HERE"
   ]
  },
  {
   "cell_type": "markdown",
   "metadata": {},
   "source": [
    "## (b.ii) tanh"
   ]
  },
  {
   "cell_type": "code",
   "execution_count": 27,
   "metadata": {},
   "outputs": [],
   "source": [
    "# Plot\n"
   ]
  },
  {
   "cell_type": "markdown",
   "metadata": {},
   "source": [
    "YOUR ANSWER HERE"
   ]
  },
  {
   "cell_type": "markdown",
   "metadata": {},
   "source": [
    "## (b.iii) ReLU"
   ]
  },
  {
   "cell_type": "code",
   "execution_count": 28,
   "metadata": {
    "scrolled": true
   },
   "outputs": [],
   "source": [
    "# Plot\n"
   ]
  },
  {
   "cell_type": "markdown",
   "metadata": {},
   "source": [
    "YOUR ANSWER HERE"
   ]
  },
  {
   "cell_type": "markdown",
   "metadata": {},
   "source": [
    "## (c.i) Derivative of f with respect to x"
   ]
  },
  {
   "cell_type": "markdown",
   "metadata": {},
   "source": [
    "YOUR ANSWER HERE"
   ]
  },
  {
   "cell_type": "markdown",
   "metadata": {},
   "source": [
    "## (c.ii) Derivative of f with respect to w"
   ]
  },
  {
   "cell_type": "markdown",
   "metadata": {},
   "source": [
    "YOUR ANSWER HERE"
   ]
  },
  {
   "cell_type": "markdown",
   "metadata": {},
   "source": [
    "## (c.ii) Derivative of f with respect to b"
   ]
  },
  {
   "cell_type": "markdown",
   "metadata": {},
   "source": [
    "YOUR ANSWER HERE"
   ]
  },
  {
   "cell_type": "code",
   "execution_count": 1,
   "metadata": {
    "ExecuteTime": {
     "end_time": "2020-01-17T03:09:20.909429Z",
     "start_time": "2020-01-17T03:09:20.903974Z"
    }
   },
   "outputs": [],
   "source": [
    "aa = -1"
   ]
  },
  {
   "cell_type": "code",
   "execution_count": 2,
   "metadata": {
    "ExecuteTime": {
     "end_time": "2020-01-17T03:09:27.095606Z",
     "start_time": "2020-01-17T03:09:27.077254Z"
    }
   },
   "outputs": [
    {
     "data": {
      "text/plain": [
       "1"
      ]
     },
     "execution_count": 2,
     "metadata": {},
     "output_type": "execute_result"
    }
   ],
   "source": [
    "-aa"
   ]
  },
  {
   "cell_type": "code",
   "execution_count": null,
   "metadata": {},
   "outputs": [],
   "source": []
  }
 ],
 "metadata": {
  "anaconda-cloud": {},
  "kernelspec": {
   "display_name": "Python 3",
   "language": "python",
   "name": "python3"
  },
  "language_info": {
   "codemirror_mode": {
    "name": "ipython",
    "version": 3
   },
   "file_extension": ".py",
   "mimetype": "text/x-python",
   "name": "python",
   "nbconvert_exporter": "python",
   "pygments_lexer": "ipython3",
   "version": "3.7.3"
  },
  "toc": {
   "nav_menu": {},
   "number_sections": true,
   "sideBar": true,
   "skip_h1_title": false,
   "title_cell": "Table of Contents",
   "title_sidebar": "Contents",
   "toc_cell": false,
   "toc_position": {},
   "toc_section_display": true,
   "toc_window_display": false
  }
 },
 "nbformat": 4,
 "nbformat_minor": 2
}
