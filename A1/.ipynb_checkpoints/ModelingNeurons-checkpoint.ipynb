{
 "cells": [
  {
   "cell_type": "markdown",
   "metadata": {},
   "source": [
    "# A1 : Modeling Neurons"
   ]
  },
  {
   "cell_type": "code",
   "execution_count": 1,
   "metadata": {
    "ExecuteTime": {
     "end_time": "2020-01-19T16:34:36.503167Z",
     "start_time": "2020-01-19T16:34:32.944625Z"
    },
    "code_folding": []
   },
   "outputs": [],
   "source": [
    "# Standard imports\n",
    "import numpy as np\n",
    "import math\n",
    "import matplotlib.pyplot as plt\n",
    "%matplotlib inline"
   ]
  },
  {
   "cell_type": "markdown",
   "metadata": {},
   "source": [
    "### Some solutions (optional)"
   ]
  },
  {
   "cell_type": "code",
   "execution_count": 2,
   "metadata": {
    "ExecuteTime": {
     "end_time": "2020-01-19T16:34:36.515670Z",
     "start_time": "2020-01-19T16:34:36.506515Z"
    }
   },
   "outputs": [],
   "source": [
    "# RUN THIS CELL ONLY IF YOU WANT TO USE THE SOLUTIONS THROUGHOUT\n",
    "from a1_solutions import *"
   ]
  },
  {
   "cell_type": "code",
   "execution_count": 3,
   "metadata": {
    "ExecuteTime": {
     "end_time": "2020-01-19T16:34:36.526827Z",
     "start_time": "2020-01-19T16:34:36.520483Z"
    }
   },
   "outputs": [],
   "source": [
    "# Run this cell if you want to be able to run functions from the solutions, like this...\n",
    "# lif_a = solutions.LIFNeuron()\n",
    "import a1_solutions as solutions"
   ]
  },
  {
   "cell_type": "markdown",
   "metadata": {},
   "source": [
    "## Some supplied helper functions"
   ]
  },
  {
   "cell_type": "code",
   "execution_count": 4,
   "metadata": {
    "ExecuteTime": {
     "end_time": "2020-01-19T16:34:36.578166Z",
     "start_time": "2020-01-19T16:34:36.531347Z"
    },
    "code_folding": []
   },
   "outputs": [],
   "source": [
    "def PlotSpikeRaster(st, y_range=[0, 1.]):\n",
    "    '''\n",
    "    PlotSpikeRaster(spiketimes, y_range=[0, 1.])\n",
    "\n",
    "    Plots a spike raster plot for a list of arrays of spike times.\n",
    "\n",
    "    Input:\n",
    "      spiketimes is a list of arrays of spike times, like that returned\n",
    "          by the function Stim2Spikes.\n",
    "      y_range is a 2-tuple that holds the y-values that the raster ticks\n",
    "          should be drawn between\n",
    "    '''\n",
    "    N = len(st)  # number of neurons\n",
    "\n",
    "    #levels = np.linspace(y_range[0], y_range[1], N+1, endpoint=True)\n",
    "    levels = np.linspace(y_range[1], y_range[0], N+1, endpoint=True)\n",
    "    for n in range(N):\n",
    "        nspikes = len(st[n])\n",
    "        #y = [ [levels[n]]*nspikes , [levels[n+1]]*nspikes ]\n",
    "        y = [ [levels[n+1]]*nspikes , [levels[n]]*nspikes ]\n",
    "        #y = y_range[0] + [levels[n]]*nspikes\n",
    "        plt.plot(np.vstack((st[n],st[n])), y, color=np.random.rand(3))\n",
    "    plt.ylim(y_range)\n",
    "    plt.xlabel('Time (s)')\n",
    "    return\n",
    "\n",
    "\n",
    "def GenerateSpikeTrain(rates, T, jitter=0.):\n",
    "    '''\n",
    "    spike_times = GenerateSpikeTrain(rates, T)\n",
    "    \n",
    "    Creates a spike train (as an array of time stamps).\n",
    "    \n",
    "    Input:\n",
    "    rates is an array or list of firing rates (in Hz), one\n",
    "        firing rate for each interval.\n",
    "    T is an array or list (the same size as 'rates') that gives\n",
    "        the time to end each interval\n",
    "    jitter is a scalar that determines how much the spikes\n",
    "        are randomly moved\n",
    "        \n",
    "    Output:\n",
    "    spike_times is an array of times when spikes occurred\n",
    "    \n",
    "    Example: To create a spike train of 10Hz for 0.5s, followed\n",
    "             by 25Hz that starts at 0.5s and ends at 2s, use\n",
    "             \n",
    "               GenerateSpikeTrain([10, 25], [0.5, 2])\n",
    "    '''\n",
    "    s = []\n",
    "    t = 0.\n",
    "    for idx in range(0,len(rates)):\n",
    "        Trange = T[idx] - t\n",
    "        if rates[idx]!=0:\n",
    "            delta = 1. / rates[idx]\n",
    "            N = rates[idx] * Trange\n",
    "            times = np.arange(t+delta/2., T[idx], delta)\n",
    "            times += np.random.normal(scale=delta*jitter, size=np.shape(times))\n",
    "            s.extend(times)\n",
    "        t = T[idx]\n",
    "    s.sort()\n",
    "    return np.array(s)\n",
    "\n",
    "\n",
    "class InputNeuron(object):\n",
    "    \n",
    "    def __init__(self, spiketrain):\n",
    "        '''\n",
    "        InputNeuron(spiketrain)\n",
    "        \n",
    "        Constructor for InputNeuron class.\n",
    "        \n",
    "        InputNeuron is a class of neuron that can be used to inject spikes into\n",
    "        the network. When involved in a simulation, an InputNeuron will generate\n",
    "        spikes at the times specified during its construction.\n",
    "        \n",
    "        Inputs:\n",
    "         spiketrain is an array or list of spike times\n",
    "        '''\n",
    "        self.spikes = np.array(spiketrain)\n",
    "        self.idx = []  # List index, when added to a network\n",
    "\n",
    "    def SpikesBetween(self, t_start, t_end):\n",
    "        '''\n",
    "        numspikes = InputNeuron.SpikesBetween(t_start, t_end)\n",
    "        \n",
    "        Returns the number of times the neuron spiked between t_start and t_end.\n",
    "        Specifically, it counts a spike if it occurred at t, where\n",
    "        t_start <= t < t_end\n",
    "        '''\n",
    "        sp_bool = np.logical_and( np.array(self.spikes)>=t_start, np.array(self.spikes)<t_end )\n",
    "        return np.sum(sp_bool)\n",
    "    \n",
    "    def Set_idx(self, idx):\n",
    "        self.idx = idx\n",
    "    def Get_idx(self):\n",
    "        '''\n",
    "         idx = InputNeuron.Get_idx()\n",
    "         \n",
    "         Returns the index of the neuron in its network.\n",
    "        '''\n",
    "        return self.idx\n",
    "    \n",
    "    def Slope(self):\n",
    "        return\n",
    "    \n",
    "    def Step(self, dt):\n",
    "        return\n",
    "    \n",
    "    def Get_spikes(self):\n",
    "        return self.spikes"
   ]
  },
  {
   "cell_type": "markdown",
   "metadata": {},
   "source": [
    "### Example use"
   ]
  },
  {
   "cell_type": "code",
   "execution_count": 5,
   "metadata": {
    "ExecuteTime": {
     "end_time": "2020-01-19T16:34:36.904561Z",
     "start_time": "2020-01-19T16:34:36.581156Z"
    }
   },
   "outputs": [
    {
     "data": {
      "text/plain": [
       "array([0.05, 0.15, 0.22, 0.26, 0.3 , 0.34, 0.38, 0.42, 0.46, 0.5 ])"
      ]
     },
     "execution_count": 5,
     "metadata": {},
     "output_type": "execute_result"
    },
    {
     "data": {
      "image/png": "[encoded data removed]",
      "text/plain": [
       "<Figure size 432x288 with 1 Axes>"
      ]
     },
     "metadata": {
      "needs_background": "light"
     },
     "output_type": "display_data"
    }
   ],
   "source": [
    "spikes = GenerateSpikeTrain([10, 25], [0.2, 0.5])  # Generates a specified spike train\n",
    "PlotSpikeRaster([spikes])\n",
    "spikes"
   ]
  },
  {
   "cell_type": "code",
   "execution_count": 6,
   "metadata": {
    "ExecuteTime": {
     "end_time": "2020-01-19T16:34:36.923193Z",
     "start_time": "2020-01-19T16:34:36.907872Z"
    }
   },
   "outputs": [
    {
     "name": "stdout",
     "output_type": "stream",
     "text": [
      "[0.05 0.15 0.22 0.26 0.3  0.34 0.38 0.42 0.46 0.5 ]\n",
      "3\n"
     ]
    }
   ],
   "source": [
    "neur_in = InputNeuron(spikes)\n",
    "print(neur_in.Get_spikes())  # Spike times\n",
    "print(neur_in.SpikesBetween(0.3,0.4)) # Number of spikes between 0.3 and 0.4"
   ]
  },
  {
   "cell_type": "markdown",
   "metadata": {},
   "source": [
    "# Q1: Implementing `LIFNeuron` Class"
   ]
  },
  {
   "cell_type": "markdown",
   "metadata": {},
   "source": [
    "## `LIFNeuron` class"
   ]
  },
  {
   "cell_type": "code",
   "execution_count": 7,
   "metadata": {
    "ExecuteTime": {
     "end_time": "2020-01-19T16:34:36.957173Z",
     "start_time": "2020-01-19T16:34:36.928741Z"
    },
    "code_folding": []
   },
   "outputs": [],
   "source": [
    "class LIFNeuron(object):\n",
    "\n",
    "    def __init__(self, Tau_m=0.02, Tau_ref=0.002, Tau_s=0.05):\n",
    "        '''\n",
    "        LIFNeuron(Tau_m=0.02, Tau_ref=0.002, Tau_s=0.05)\n",
    "        \n",
    "        Constructor for LIFNeuron class\n",
    "        \n",
    "        Inputs:\n",
    "         Tau_m   membrane time constant, in seconds (s)\n",
    "         Tau_ref refractory period (s)\n",
    "         Tau_s   synaptic time constant (s)\n",
    "        '''\n",
    "        self.tau_m = Tau_m      # membrane time constant\n",
    "        self.tau_ref = Tau_ref  # refractory period\n",
    "        self.tau_s = Tau_s      # synaptic time constant\n",
    "        self.v = 0.             # sub-threshold membrane potential (voltage)\n",
    "        self.s = 0.            # post-synaptic current (PSC)\n",
    "        self.t = 0.             # current time\n",
    "        self.dvdt = 0.          # slope of v (w.r.t. time)\n",
    "        self.dsdt = 0.          # slope of s (w.r.t. time)\n",
    "        \n",
    "        self.idx = []           # List index, when added to a network\n",
    "        \n",
    "        self.weighted_incoming_spikes = 0.  # weighted sum of incoming spikes (for one time step)\n",
    "        self.ref_remaining = 0. # amount of time remaining in the refractory period\n",
    "        \n",
    "        # For plotting\n",
    "        self.v_history = []     # records v over time\n",
    "        self.s_history = []\n",
    "        self.spikes = []        # list of times when this neuron spiked\n",
    "        \n",
    "\n",
    "    # A bunch of set and get functions.\n",
    "    def Set_v(self, v):\n",
    "        self.v = v \n",
    "    def Get_v(self):\n",
    "        return self.v\n",
    "    def Set_s(self, s):\n",
    "        self.s = s\n",
    "    def Get_s(self):\n",
    "        return self.s\n",
    "    def Set_ref_remaining(self, ref_remaining):\n",
    "        self.ref_remaining = ref_remaining\n",
    "    def Get_ref_remaining(self):\n",
    "        return self.ref_remaining\n",
    "    def Set_idx(self, idx):\n",
    "        self.idx = idx\n",
    "    def Get_idx(self):\n",
    "        return self.idx\n",
    "    def Get_spikes(self):\n",
    "        return self.spikes\n",
    "    def Set_t(self, t):\n",
    "        self.t = t\n",
    "    def Get_v_history(self):\n",
    "        return self.v_history\n",
    "    \n",
    "    def SpikesBetween(self, t_start, t_end):\n",
    "        '''\n",
    "        numspikes = LIFNeuron.SpikesBetween(t_start, t_end)\n",
    "        \n",
    "        Returns the number of times the neuron spiked between t_start and t_end.\n",
    "        Specifically, it counts a spike if it occurred at t, where\n",
    "        t_start <= t < t_end\n",
    "        '''\n",
    "        sp_bool = np.logical_and( np.array(self.spikes)>=t_start, np.array(self.spikes)<t_end )\n",
    "        return np.sum(sp_bool)\n",
    "    \n",
    "    def Slope(self):\n",
    "        '''\n",
    "        LIFNeuron.Slope()\n",
    "        \n",
    "        Evaluates the right-hand side of the differential equations that\n",
    "        govern v and s. The slopes get stored in the internal variables\n",
    "          self.dvdt, and\n",
    "          self.dsdt\n",
    "        '''\n",
    "        #===== REPLACE THE CODE BELOW =====\n",
    "        #self.dvdt = 0.\n",
    "        #self.dsdt = 0.\n",
    "        \n",
    "        self.dvdt = (1 / self.tau_m) * (self.s - self.v)\n",
    "        self.dsdt = -(1 / self.tau_s) * self.s\n",
    "        \n",
    "        \n",
    "    def Step(self, dt):\n",
    "        '''\n",
    "        LIFNeuron.Step(dt)\n",
    "        \n",
    "        Updates the LIF neuron state by taking an Euler step in v and s.\n",
    "        The length of the step is dt seconds.\n",
    "        If v reaches the threshold of 1, the neuron fires an action potential\n",
    "        (spike). Linear interpolation should be used to estimate the time that v=1.\n",
    "        The spike time is appended to the list self.spikes, and v\n",
    "        is set to zero. After a spike, the neuron is dormant for self.tau_ref\n",
    "        seconds.\n",
    "        \n",
    "        '''\n",
    "        #==== PLACE YOUR CODE HERE ====\n",
    "        self.s += self.dsdt * dt \n",
    "        #upon recieving an spike\n",
    "        self.s += (1 / self.tau_s) * self.weighted_incoming_spikes\n",
    "        \n",
    "        dtt = dt - self.ref_remaining\n",
    "        \n",
    "        if dtt >= 0.:\n",
    "            self.v += self.dvdt * dtt\n",
    "            self.ref_remaining = 0\n",
    "\n",
    "        else:\n",
    "            self.ref_remaining -= dt\n",
    "        \n",
    "        if self.v >= 1:\n",
    "            tSpike = (1 - self.v) / self.dvdt + dtt\n",
    "            self.spikes.append(self.t + tSpike)\n",
    "            self.v = 0.\n",
    "            #self.dvdt = 0.\n",
    "            self.ref_remaining = self.tau_ref - (dtt - tSpike)\n",
    "        \n",
    "        self.t += dt\n",
    "        \n",
    "        # Store v (for plotting), and reset incoming spike accumulator\n",
    "        self.v_history.append(self.v)\n",
    "        self.weighted_incoming_spikes = 0.\n",
    "        \n",
    "        \n",
    "        \n",
    "    def ReceiveSpike(self, w):\n",
    "        '''\n",
    "        LIFNeuron.ReceiveSpike(w)\n",
    "        \n",
    "        Registers the arrival of a spike from a presynaptic neuron. The\n",
    "        member variable self.weighted_incoming_spikes keeps track of all\n",
    "        the incoming spikes, each weighted by their respective connection\n",
    "        weights. It is sufficient to add them all together to tabulate the\n",
    "        total incoming weighted spikes (from all presynaptic neurons).\n",
    "        \n",
    "        Input:\n",
    "         w    is the connection weight from the presynaptic neuron.\n",
    "        '''\n",
    "        self.weighted_incoming_spikes += w\n",
    "        \n",
    "        \n",
    "    def ShowState(self):\n",
    "        '''\n",
    "         LIFNeuron.ShowState()\n",
    "         \n",
    "         Prints the current time, membrane potential, input current, and\n",
    "         remaining refractory time.\n",
    "        '''\n",
    "        print('{0:6.4f}s: s={1:5.3f}, v={2:6.4f}, ref remaining={3:7.5f}'.format(self.t, self.s, self.v, self.ref_remaining))\n"
   ]
  },
  {
   "cell_type": "markdown",
   "metadata": {},
   "source": [
    "## Tests"
   ]
  },
  {
   "cell_type": "markdown",
   "metadata": {},
   "source": [
    "The test below should yield,\n",
    "\n",
    "    0.0000s: s=0.000, v=0.0000, ref remaining=0.00000\n",
    "    0.0010s: s=0.600, v=0.0000, ref remaining=0.00000\n",
    "    0.0020s: s=0.588, v=0.0300, ref remaining=0.00000"
   ]
  },
  {
   "cell_type": "code",
   "execution_count": 8,
   "metadata": {
    "ExecuteTime": {
     "end_time": "2020-01-19T16:34:36.969279Z",
     "start_time": "2020-01-19T16:34:36.960665Z"
    }
   },
   "outputs": [
    {
     "name": "stdout",
     "output_type": "stream",
     "text": [
      "0.0000s: s=0.000, v=0.0000, ref remaining=0.00000\n",
      "0.0010s: s=0.600, v=0.0000, ref remaining=0.00000\n",
      "0.0020s: s=0.588, v=0.0300, ref remaining=0.00000\n"
     ]
    }
   ],
   "source": [
    "lif_a = LIFNeuron(Tau_m=0.02, Tau_ref=0.002, Tau_s=0.05)\n",
    "\n",
    "# If you want to run the version from the supplied solutions, use\n",
    "# the line below instead.\n",
    "#lif_a = solutions.LIFNeuron(Tau_m=0.02, Tau_ref=0.002, Tau_s=0.05)\n",
    "\n",
    "lif_a.ReceiveSpike(0.03)\n",
    "lif_a.ShowState()\n",
    "lif_a.Slope()\n",
    "lif_a.Step(0.001)\n",
    "lif_a.ShowState()\n",
    "lif_a.Slope()\n",
    "lif_a.Step(0.001)\n",
    "lif_a.ShowState()"
   ]
  },
  {
   "cell_type": "markdown",
   "metadata": {},
   "source": [
    "The test below should yield,\n",
    "\n",
    "    0.0000s: s=0.500, v=0.0000, ref remaining=0.00150\n",
    "    0.0010s: s=0.490, v=0.0000, ref remaining=0.00050\n",
    "    0.0020s: s=0.480, v=0.0123, ref remaining=0.00000"
   ]
  },
  {
   "cell_type": "code",
   "execution_count": 9,
   "metadata": {
    "ExecuteTime": {
     "end_time": "2020-01-19T16:34:36.982168Z",
     "start_time": "2020-01-19T16:34:36.972289Z"
    }
   },
   "outputs": [
    {
     "name": "stdout",
     "output_type": "stream",
     "text": [
      "0.0000s: s=0.500, v=0.0000, ref remaining=0.00150\n",
      "0.0010s: s=0.490, v=0.0000, ref remaining=0.00050\n",
      "0.0020s: s=0.480, v=0.0123, ref remaining=0.00000\n"
     ]
    }
   ],
   "source": [
    "lif_a = LIFNeuron(Tau_m=0.02, Tau_ref=0.002, Tau_s=0.05)\n",
    "lif_a.Set_v(0.)\n",
    "lif_a.Set_s(0.5)\n",
    "lif_a.Set_ref_remaining(0.0015)\n",
    "lif_a.ShowState()\n",
    "lif_a.Slope(); lif_a.Step(0.001)\n",
    "lif_a.ShowState()\n",
    "lif_a.Slope(); lif_a.Step(0.001)\n",
    "lif_a.ShowState()"
   ]
  },
  {
   "cell_type": "markdown",
   "metadata": {},
   "source": [
    "The test below should yield,\n",
    "\n",
    "    0.3000s: s=1.300, v=0.9800, ref remaining=0.00000\n",
    "    0.3010s: s=1.274, v=0.9960, ref remaining=0.00000\n",
    "    0.3020s: s=1.249, v=1.0000, ref remaining=0.00129\n",
    "    0.3030s: s=1.224, v=0.0000, ref remaining=0.00029\n",
    "    0.3040s: s=1.199, v=0.0436, ref remaining=0.00000\n",
    "    Spike occurred at 0.30129 seconds"
   ]
  },
  {
   "cell_type": "code",
   "execution_count": 10,
   "metadata": {
    "ExecuteTime": {
     "end_time": "2020-01-19T16:34:36.994200Z",
     "start_time": "2020-01-19T16:34:36.984601Z"
    }
   },
   "outputs": [
    {
     "name": "stdout",
     "output_type": "stream",
     "text": [
      "0.3000s: s=1.300, v=0.9800, ref remaining=0.00000\n",
      "0.3010s: s=1.274, v=0.9960, ref remaining=0.00000\n",
      "0.3020s: s=1.249, v=0.0000, ref remaining=0.00129\n",
      "0.3030s: s=1.224, v=0.0000, ref remaining=0.00029\n",
      "0.3040s: s=1.199, v=0.0436, ref remaining=0.00000\n",
      "Spike occurred at 0.30129 seconds\n"
     ]
    }
   ],
   "source": [
    "lif_a = LIFNeuron(Tau_m=0.02, Tau_ref=0.002, Tau_s=0.05)\n",
    "lif_a.Set_t(0.3)\n",
    "lif_a.Set_v(0.98)\n",
    "lif_a.Set_s(1.3)\n",
    "dt = 0.001\n",
    "lif_a.ShowState()\n",
    "lif_a.Slope(); lif_a.Step(dt); lif_a.ShowState()\n",
    "lif_a.Slope(); lif_a.Step(dt); lif_a.ShowState()\n",
    "lif_a.Slope(); lif_a.Step(dt); lif_a.ShowState()\n",
    "lif_a.Slope(); lif_a.Step(dt); lif_a.ShowState()\n",
    "if len(lif_a.Get_spikes())>0:\n",
    "    print('Spike occurred at {0:.5g} seconds'.format(lif_a.Get_spikes()[-1]))"
   ]
  },
  {
   "cell_type": "markdown",
   "metadata": {},
   "source": [
    "# Q2: Implementing `SpikingNetwork`"
   ]
  },
  {
   "cell_type": "markdown",
   "metadata": {},
   "source": [
    "## `SpikingNetwork` Class"
   ]
  },
  {
   "cell_type": "code",
   "execution_count": 11,
   "metadata": {
    "ExecuteTime": {
     "end_time": "2020-01-19T16:34:37.022255Z",
     "start_time": "2020-01-19T16:34:36.996194Z"
    }
   },
   "outputs": [],
   "source": [
    "class SpikingNetwork(object):\n",
    "    \n",
    "    def __init__(self):\n",
    "        '''\n",
    "        SpikingNetwork()\n",
    "        \n",
    "        Constructor for SpikingNetwork class.\n",
    "        \n",
    "        The SpikingNetwork class contains a collection of neurons,\n",
    "        and the connections between those neurons.\n",
    "        '''\n",
    "        self.neurons = []      # List of neurons (of various kinds)\n",
    "        self.connections = []  # List of connections\n",
    "        self.t_history = []    # List of time stamps for the Euler steps\n",
    "                               # (Useful for plotting)\n",
    "    def GetNeuron(self, idx):\n",
    "        '''\n",
    "         neur = SpikingNetwork.GetNeuron(idx)\n",
    "         \n",
    "         Returns the Neuron object at index idx.\n",
    "        '''\n",
    "        return self.neurons[idx]\n",
    "    \n",
    "    def GetConnection(self, c):\n",
    "        '''\n",
    "         con = SpikingNetwork.GetConnection(c)\n",
    "        '''\n",
    "        return self.connections[c]\n",
    "    \n",
    "    def AddNeuron(self, neur):\n",
    "        '''\n",
    "        SpikingNetwork.AddNeuron(neuron)\n",
    "        \n",
    "        Adds a neuron to the network.\n",
    "        \n",
    "        Input:\n",
    "         neuron is an object of type LIFNeuron or InputNeuron\n",
    "        '''\n",
    "        self.neurons.append(neur)\n",
    "        neur.idx = len(self.neurons)-1\n",
    "        \n",
    "    def Connect(self, pre, post, w):\n",
    "        '''\n",
    "        SpikingNetwork.Connect(pre, post, w)\n",
    "        \n",
    "        Connects neuron 'pre' to neuron 'post' with a connection\n",
    "        weigth of w.\n",
    "        \n",
    "        Each \"connection\" is stored as a list of 3 numbers of the form:\n",
    "         [ pre_idx, post_idx, weight ]\n",
    "        where\n",
    "         pre_idx is the list index of the pre-synaptic neuron,\n",
    "         post_idx is the list index of the post-synaptic neuron, and\n",
    "         weight is the connection weight.\n",
    "        eg. self.connections = [[0,1,0.05], [1,2,0.04], [1,0,-0.2]]\n",
    "        '''\n",
    "        self.connections.append([pre, post, w])\n",
    "        \n",
    "        \n",
    "    def Simulate(self, T, dt):\n",
    "        '''\n",
    "        SpikingNetwork.Simulate(T, dt)\n",
    "        \n",
    "        Simulates the network for T seconds by taking Euler steps\n",
    "        of size dt.\n",
    "        \n",
    "        Inputs:\n",
    "         T    how long to integrate for\n",
    "         dt   time step for Euler's method\n",
    "        '''\n",
    "        \n",
    "        # This code takes care of recording time samples in a way\n",
    "        # that allows continuation. You needn't fuss over this code.\n",
    "        current = 0 if len(self.t_history)==0 else self.t_history[-1]\n",
    "        t_segment = np.arange(current, current+T, dt)\n",
    "        \n",
    "        \n",
    "        #==== HERE IS WHERE YOUR CODE STARTS ====\n",
    "        \n",
    "        # Loop over time steps (I've set that up for you)\n",
    "        \n",
    "        # Forming Connectivity Matrix based on network morphology and weights\n",
    "        conn_Matrix = np.zeros([len(self.neurons),len(self.neurons)])\n",
    "        for cc in np.arange(len(self.connections)):\n",
    "            row = self.connections[cc][0] \n",
    "            column = self.connections[cc][1]\n",
    "            conn_Matrix[row][column] = self.connections[cc][2]  # assigning w\n",
    "        \n",
    "        incomming_spikes = np.zeros (len(self.neurons))\n",
    "        \n",
    "        for tt in t_segment:\n",
    "            self.t_history.append(tt)  # Record time stamp\n",
    "            \n",
    "            for idx in range(len(self.neurons)):\n",
    "                    self.neurons[idx].weighted_incoming_spikes = np.dot(incomming_spikes, conn_Matrix[:, idx]) \n",
    "                    self.neurons[idx].Slope(); self.neurons[idx].Step(dt);\n",
    "            \n",
    "            for idx in range(len(self.neurons)):\n",
    "                incomming_spikes[idx] = self.neurons[idx].SpikesBetween(tt, tt + dt)\n",
    "                    \n",
    "#             for cc in np.arange(len(self.connections)):\n",
    "#                     neur_pre = self.GetNeuron(self.connections[cc][0]) \n",
    "#                     neur_post = self.GetNeuron(self.connections[cc][1])\n",
    "#                     wBetween = self.connections[cc][2]  # assigning w\n",
    "                    \n",
    "#                     neur_pre.Slope(); neur_pre.Step(dt); \n",
    "                    \n",
    "#                     t_start = tt \n",
    "#                     t_end = tt + dt\n",
    "#                     numReceivedSpikes = neur_pre.SpikesBetween(t_start, t_end) + spike_history[neur_pre.idx]\n",
    "                    \n",
    "#                     #for r in range(numReceivedSpikes):\n",
    "#                         #neur_post.ReceiveSpike(wBetween) \n",
    "#                     neur_post.weighted_incoming_spikes = numReceivedSpikes * wBetween\n",
    "                    \n",
    "#                     neur_post.Slope(); neur_post.Step(dt);\n",
    "                    \n",
    "#                     numTransmittedSpikes = neur_post.SpikesBetween(t_start, t_end)\n",
    "#                     spike_history[neur_post.idx] = numTransmittedSpikes\n",
    "                    \n",
    "            \n",
    "            \n",
    "        #==== PLACE YOUR CODE HERE ====\n",
    "\n",
    "        \n",
    "        \n",
    "    def AllSpikeTimes(self):\n",
    "        '''\n",
    "        SpikingNetwork.AllSpikeTimes()\n",
    "        \n",
    "        Returns all the spikes of all the neurons in the network.\n",
    "        Useful for making spike-raster plots of network activity.\n",
    "        \n",
    "        Output:\n",
    "         all_spikes  a list of sublists, where each sublist holds\n",
    "                     the spike times of one of the neurons\n",
    "        '''\n",
    "        blah = []\n",
    "        for neur in self.neurons:\n",
    "            blah.append(np.array(neur.Get_spikes()))\n",
    "        return blah"
   ]
  },
  {
   "cell_type": "code",
   "execution_count": null,
   "metadata": {},
   "outputs": [],
   "source": []
  },
  {
   "cell_type": "markdown",
   "metadata": {},
   "source": [
    "### Test  Q2"
   ]
  },
  {
   "cell_type": "code",
   "execution_count": 12,
   "metadata": {
    "ExecuteTime": {
     "end_time": "2020-01-19T16:34:37.083576Z",
     "start_time": "2020-01-19T16:34:37.024251Z"
    }
   },
   "outputs": [],
   "source": [
    "# This will create a small network to test on. This network is shown in Fig. 1(a).\n",
    "net = SpikingNetwork()\n",
    "A = LIFNeuron(Tau_s=0.1)  # Create a LIF neuron\n",
    "in1 = InputNeuron( GenerateSpikeTrain([30], [1]) )  # Create an input neuron\n",
    "\n",
    "net.AddNeuron(A)  # Neuron 0 (uses default values for tau_m and tau_ref)\n",
    "net.AddNeuron(in1)  # Input neuron generates 30 Hz spike train\n",
    "net.Connect(in1.Get_idx(), A.Get_idx(), 0.05)  # Connection from neuron 1 to neuron 0\n",
    "\n",
    "net.Simulate(1, 0.001) # Simulate for 1 second"
   ]
  },
  {
   "cell_type": "code",
   "execution_count": 13,
   "metadata": {
    "ExecuteTime": {
     "end_time": "2020-01-19T16:34:37.419222Z",
     "start_time": "2020-01-19T16:34:37.083576Z"
    }
   },
   "outputs": [
    {
     "data": {
      "image/png": "[encoded data removed]",
      "text/plain": [
       "<Figure size 432x288 with 1 Axes>"
      ]
     },
     "metadata": {
      "needs_background": "light"
     },
     "output_type": "display_data"
    }
   ],
   "source": [
    "# Plot the membrane potential of net.neuron[0]\n",
    "plt.plot(net.t_history, net.GetNeuron(0).Get_v_history());\n",
    "plt.xlabel('Time (s)')\n",
    "plt.ylabel('Membrane Potential');"
   ]
  },
  {
   "cell_type": "code",
   "execution_count": 14,
   "metadata": {
    "ExecuteTime": {
     "end_time": "2020-01-19T16:34:37.812313Z",
     "start_time": "2020-01-19T16:34:37.420223Z"
    },
    "scrolled": true
   },
   "outputs": [
    {
     "name": "stdout",
     "output_type": "stream",
     "text": [
      "[36]\n"
     ]
    },
    {
     "data": {
      "image/png": "[encoded data removed]",
      "text/plain": [
       "<Figure size 432x288 with 1 Axes>"
      ]
     },
     "metadata": {
      "needs_background": "light"
     },
     "output_type": "display_data"
    }
   ],
   "source": [
    "# Plot the spike rasters for all the neurons in the network.\n",
    "PlotSpikeRaster( net.AllSpikeTimes() )\n",
    "\n",
    "LIF_rates = []\n",
    "LIF_rates.append(net.GetNeuron(0).SpikesBetween(0, 1))\n",
    "                     \n",
    "print(LIF_rates)"
   ]
  },
  {
   "cell_type": "markdown",
   "metadata": {},
   "source": [
    "### Check  Q2"
   ]
  },
  {
   "cell_type": "code",
   "execution_count": 15,
   "metadata": {
    "ExecuteTime": {
     "end_time": "2020-01-19T16:34:39.238764Z",
     "start_time": "2020-01-19T16:34:37.815430Z"
    },
    "scrolled": true
   },
   "outputs": [
    {
     "data": {
      "image/png": "[encoded data removed]",
      "text/plain": [
       "<Figure size 432x288 with 1 Axes>"
      ]
     },
     "metadata": {
      "needs_background": "light"
     },
     "output_type": "display_data"
    }
   ],
   "source": [
    "# This will create a small network to test on. This network is shown in Fig. 1(a).\n",
    "net = solutions.SpikingNetwork()\n",
    "A = solutions.LIFNeuron(Tau_s=0.1)  # Create a LIF neuron\n",
    "in1 = InputNeuron( GenerateSpikeTrain([30], [1]) )  # Create an input neuron\n",
    "\n",
    "net.AddNeuron(A)  # Neuron 0 (uses default values for tau_m and tau_ref)\n",
    "net.AddNeuron(in1)  # Input neuron generates 30 Hz spike train\n",
    "net.Connect(in1.Get_idx(), A.Get_idx(), 0.05)  # Connection from neuron 1 to neuron 0\n",
    "\n",
    "net.Simulate(1, 0.001) # Simulate for 1 second\n",
    "\n",
    "# Plot the membrane potential of net.neuron[0]\n",
    "plt.plot(net.t_history, net.GetNeuron(0).Get_v_history());\n",
    "plt.xlabel('Time (s)')\n",
    "plt.ylabel('Membrane Potential');"
   ]
  },
  {
   "cell_type": "code",
   "execution_count": 16,
   "metadata": {
    "ExecuteTime": {
     "end_time": "2020-01-19T16:34:39.578351Z",
     "start_time": "2020-01-19T16:34:39.241783Z"
    },
    "scrolled": true
   },
   "outputs": [
    {
     "name": "stdout",
     "output_type": "stream",
     "text": [
      "[36]\n"
     ]
    },
    {
     "data": {
      "image/png": "[encoded data removed]",
      "text/plain": [
       "<Figure size 432x288 with 1 Axes>"
      ]
     },
     "metadata": {
      "needs_background": "light"
     },
     "output_type": "display_data"
    }
   ],
   "source": [
    "# Plot the spike rasters for all the neurons in the network.\n",
    "PlotSpikeRaster( net.AllSpikeTimes() )\n",
    "\n",
    "LIF_rates = []\n",
    "LIF_rates.append(net.GetNeuron(0).SpikesBetween(0, 1))\n",
    "                     \n",
    "print(LIF_rates)"
   ]
  },
  {
   "cell_type": "markdown",
   "metadata": {},
   "source": [
    "# Q3: Experiments with Spiking Networks"
   ]
  },
  {
   "cell_type": "markdown",
   "metadata": {},
   "source": [
    "## (a) LIF Firing Rate Curve"
   ]
  },
  {
   "cell_type": "code",
   "execution_count": 17,
   "metadata": {
    "ExecuteTime": {
     "end_time": "2020-01-19T16:34:55.639252Z",
     "start_time": "2020-01-19T16:34:39.579375Z"
    }
   },
   "outputs": [],
   "source": [
    "# i.\n",
    "\n",
    "#spike_times = GenerateSpikeTrain(rates, T)\n",
    "T_Step = 2\n",
    "rates = np.arange(5, 105, 5)\n",
    "T = np.arange(2, len(rates) * 2 + 1, T_Step)\n",
    "\n",
    "net = SpikingNetwork()\n",
    "A = LIFNeuron(Tau_s=0.1)  # Create a LIF neuron\n",
    "in1 = InputNeuron( GenerateSpikeTrain(rates, T) )  # Create an input neuron\n",
    "\n",
    "net.AddNeuron(A)  # Neuron 0 (uses default values for tau_m and tau_ref)\n",
    "net.AddNeuron(in1)  # Input neuron generates 30 Hz spike train\n",
    "net.Connect(in1.Get_idx(), A.Get_idx(), 0.05)  # Connection from neuron 1 to neuron 0\n",
    "\n",
    "net.Simulate(T[-1], 0.001) # Simulate for 100 second"
   ]
  },
  {
   "cell_type": "code",
   "execution_count": 18,
   "metadata": {
    "ExecuteTime": {
     "end_time": "2020-01-19T16:34:56.610061Z",
     "start_time": "2020-01-19T16:34:55.641246Z"
    },
    "scrolled": true
   },
   "outputs": [
    {
     "data": {
      "image/png": "[encoded data removed]",
      "text/plain": [
       "<Figure size 432x288 with 1 Axes>"
      ]
     },
     "metadata": {
      "needs_background": "light"
     },
     "output_type": "display_data"
    }
   ],
   "source": [
    "# Plot the membrane potential of net.neuron[0]\n",
    "plt.plot(net.t_history, net.GetNeuron(0).Get_v_history());\n",
    "plt.xlabel('Time (s)')\n",
    "plt.ylabel('Membrane Potential');"
   ]
  },
  {
   "cell_type": "code",
   "execution_count": 19,
   "metadata": {
    "ExecuteTime": {
     "end_time": "2020-01-19T16:35:07.821929Z",
     "start_time": "2020-01-19T16:34:56.612055Z"
    },
    "scrolled": false
   },
   "outputs": [
    {
     "data": {
      "image/png": "[encoded data removed]",
      "text/plain": [
       "<Figure size 432x288 with 1 Axes>"
      ]
     },
     "metadata": {
      "needs_background": "light"
     },
     "output_type": "display_data"
    }
   ],
   "source": [
    "# Plot the spike rasters for all the neurons in the network.\n",
    "PlotSpikeRaster( net.AllSpikeTimes() )"
   ]
  },
  {
   "cell_type": "code",
   "execution_count": 20,
   "metadata": {
    "ExecuteTime": {
     "end_time": "2020-01-19T16:35:07.855709Z",
     "start_time": "2020-01-19T16:35:07.824850Z"
    }
   },
   "outputs": [
    {
     "name": "stdout",
     "output_type": "stream",
     "text": [
      "[0.0, 0.0, 0.5, 15.5, 25.0, 39.0, 52.0, 64.0, 75.5, 85.0, 91.5, 100.5, 109.5, 116.0, 124.5, 131.0, 137.5, 144.5, 151.0, 156.0]\n",
      "[5.0, 10.0, 15.0, 20.0, 25.0, 30.0, 35.0, 40.0, 45.0, 50.0, 55.0, 60.0, 65.0, 70.0, 75.0, 80.0, 85.0, 90.0, 95.0, 100.0]\n"
     ]
    }
   ],
   "source": [
    "# ii.\n",
    "#SpikesBetween(t_start, t_end)\n",
    "\n",
    "LIF_rates = []\n",
    "in_rates = []\n",
    "\n",
    "for t in range(0, 40, 2):\n",
    "    LIF_rates.append(net.GetNeuron(0).SpikesBetween(t, t + 2) / T_Step )\n",
    "    in_rates.append(net.GetNeuron(1).SpikesBetween(t, t + 2) / T_Step)\n",
    "    \n",
    "print(LIF_rates)    \n",
    "print(in_rates)"
   ]
  },
  {
   "cell_type": "code",
   "execution_count": 21,
   "metadata": {
    "ExecuteTime": {
     "end_time": "2020-01-19T16:35:08.087797Z",
     "start_time": "2020-01-19T16:35:07.858659Z"
    }
   },
   "outputs": [
    {
     "data": {
      "text/plain": [
       "Text(0, 0.5, 'LIF Firing Rate')"
      ]
     },
     "execution_count": 21,
     "metadata": {},
     "output_type": "execute_result"
    },
    {
     "data": {
      "image/png": "[encoded data removed]",
      "text/plain": [
       "<Figure size 432x288 with 1 Axes>"
      ]
     },
     "metadata": {
      "needs_background": "light"
     },
     "output_type": "display_data"
    }
   ],
   "source": [
    "#iii\n",
    "plt.figure()\n",
    "plt.plot(in_rates ,LIF_rates, '.')\n",
    "plt.xlabel('Input Firing Rate')\n",
    "plt.ylabel('LIF Firing Rate')"
   ]
  },
  {
   "cell_type": "markdown",
   "metadata": {},
   "source": [
    "#### Check Q3.a"
   ]
  },
  {
   "cell_type": "code",
   "execution_count": 22,
   "metadata": {
    "ExecuteTime": {
     "end_time": "2020-01-19T16:35:54.642815Z",
     "start_time": "2020-01-19T16:35:08.090986Z"
    },
    "scrolled": true
   },
   "outputs": [
    {
     "data": {
      "image/png": "[encoded data removed]",
      "text/plain": [
       "<Figure size 432x288 with 1 Axes>"
      ]
     },
     "metadata": {
      "needs_background": "light"
     },
     "output_type": "display_data"
    }
   ],
   "source": [
    "#i\n",
    "T_Step = 2\n",
    "rates = np.arange(5, 105, 5)\n",
    "T = np.arange(2, len(rates) * 2 + 1, T_Step)\n",
    "\n",
    "net = solutions.SpikingNetwork()\n",
    "A = solutions.LIFNeuron(Tau_s=0.1)  # Create a LIF neuron\n",
    "in1 = InputNeuron( GenerateSpikeTrain(rates, T) )  # Create an input neuron\n",
    "\n",
    "net.AddNeuron(A)  # Neuron 0 (uses default values for tau_m and tau_ref)\n",
    "net.AddNeuron(in1)  # Input neuron generates 30 Hz spike train\n",
    "net.Connect(in1.Get_idx(), A.Get_idx(), 0.05)  # Connection from neuron 1 to neuron 0\n",
    "\n",
    "net.Simulate(T[-1], 0.001) # Simulate for 100 second\n",
    "\n",
    "# Plot the membrane potential of net.neuron[0]\n",
    "plt.plot(net.t_history, net.GetNeuron(0).Get_v_history());\n",
    "plt.xlabel('Time (s)')\n",
    "plt.ylabel('Membrane Potential');"
   ]
  },
  {
   "cell_type": "code",
   "execution_count": 23,
   "metadata": {
    "ExecuteTime": {
     "end_time": "2020-01-19T16:36:05.977684Z",
     "start_time": "2020-01-19T16:35:54.649629Z"
    }
   },
   "outputs": [
    {
     "data": {
      "image/png": "[encoded data removed]",
      "text/plain": [
       "<Figure size 432x288 with 1 Axes>"
      ]
     },
     "metadata": {
      "needs_background": "light"
     },
     "output_type": "display_data"
    }
   ],
   "source": [
    "# Plot the spike rasters for all the neurons in the network.\n",
    "PlotSpikeRaster( net.AllSpikeTimes() )"
   ]
  },
  {
   "cell_type": "code",
   "execution_count": 24,
   "metadata": {
    "ExecuteTime": {
     "end_time": "2020-01-19T16:36:06.016516Z",
     "start_time": "2020-01-19T16:36:05.981746Z"
    }
   },
   "outputs": [
    {
     "name": "stdout",
     "output_type": "stream",
     "text": [
      "[0.0, 0.0, 0.5, 15.5, 25.0, 39.0, 52.0, 64.0, 75.5, 85.0, 91.5, 100.5, 109.5, 116.0, 124.5, 131.0, 137.5, 144.5, 151.0, 156.0]\n",
      "[5.0, 10.0, 15.0, 20.0, 25.0, 30.0, 35.0, 40.0, 45.0, 50.0, 55.0, 60.0, 65.0, 70.0, 75.0, 80.0, 85.0, 90.0, 95.0, 100.0]\n"
     ]
    }
   ],
   "source": [
    "# ii\n",
    "LIF_rates = []\n",
    "in_rates = []\n",
    "\n",
    "for t in range(0, 40, 2):\n",
    "    LIF_rates.append(net.GetNeuron(0).SpikesBetween(t, t + 2) / T_Step )\n",
    "    in_rates.append(net.GetNeuron(1).SpikesBetween(t, t + 2) / T_Step)\n",
    "\n",
    "print(LIF_rates)    \n",
    "print(in_rates)"
   ]
  },
  {
   "cell_type": "code",
   "execution_count": 25,
   "metadata": {
    "ExecuteTime": {
     "end_time": "2020-01-19T16:36:06.255236Z",
     "start_time": "2020-01-19T16:36:06.018507Z"
    }
   },
   "outputs": [
    {
     "data": {
      "text/plain": [
       "Text(0, 0.5, 'LIF Firing Rate')"
      ]
     },
     "execution_count": 25,
     "metadata": {},
     "output_type": "execute_result"
    },
    {
     "data": {
      "image/png": "[encoded data removed]",
      "text/plain": [
       "<Figure size 432x288 with 1 Axes>"
      ]
     },
     "metadata": {
      "needs_background": "light"
     },
     "output_type": "display_data"
    }
   ],
   "source": [
    "#iii\n",
    "plt.figure()\n",
    "plt.plot(in_rates ,LIF_rates, '.')\n",
    "plt.xlabel('Input Firing Rate')\n",
    "plt.ylabel('LIF Firing Rate')"
   ]
  },
  {
   "cell_type": "markdown",
   "metadata": {},
   "source": [
    "## (b) Two LIF Neurons"
   ]
  },
  {
   "cell_type": "code",
   "execution_count": 26,
   "metadata": {
    "ExecuteTime": {
     "end_time": "2020-01-19T16:36:06.393272Z",
     "start_time": "2020-01-19T16:36:06.257819Z"
    },
    "scrolled": true
   },
   "outputs": [],
   "source": [
    "# i.\n",
    "net = SpikingNetwork()\n",
    "\n",
    "in1 = InputNeuron( GenerateSpikeTrain([30], [0.3]) )  # Create an input neuron\n",
    "A = LIFNeuron()  # Create a LIF neuron\n",
    "B = LIFNeuron()\n",
    "\n",
    "\n",
    "net.AddNeuron(in1)  # Input neuron 0\n",
    "net.AddNeuron(A)  # Neuron 1 (A) (uses default values)\n",
    "net.AddNeuron(B)  # Neuron 2 (B) (uses default values)\n",
    "\n",
    "net.Connect(in1.Get_idx(), A.Get_idx(), 0.05)  \n",
    "net.Connect(A.Get_idx(), B.Get_idx(), 0.05)  \n",
    "net.Connect(B.Get_idx(), A.Get_idx(), 0.05)  \n",
    "\n",
    "net.Simulate(1, 0.001) # "
   ]
  },
  {
   "cell_type": "code",
   "execution_count": 27,
   "metadata": {
    "ExecuteTime": {
     "end_time": "2020-01-19T16:36:07.576893Z",
     "start_time": "2020-01-19T16:36:06.398368Z"
    }
   },
   "outputs": [
    {
     "data": {
      "image/png": "[encoded data removed]",
      "text/plain": [
       "<Figure size 432x288 with 1 Axes>"
      ]
     },
     "metadata": {
      "needs_background": "light"
     },
     "output_type": "display_data"
    }
   ],
   "source": [
    "# ii\n",
    "# Plot the spike rasters for all the neurons in the network.\n",
    "PlotSpikeRaster( net.AllSpikeTimes() )"
   ]
  },
  {
   "cell_type": "markdown",
   "metadata": {
    "ExecuteTime": {
     "end_time": "2020-01-19T01:01:45.933417Z",
     "start_time": "2020-01-19T01:01:45.925127Z"
    }
   },
   "source": [
    "#### Check Q3.b (Two LIF Neurons) with Solution"
   ]
  },
  {
   "cell_type": "code",
   "execution_count": 28,
   "metadata": {
    "ExecuteTime": {
     "end_time": "2020-01-19T16:36:11.871454Z",
     "start_time": "2020-01-19T16:36:07.579884Z"
    }
   },
   "outputs": [
    {
     "data": {
      "image/png": "[encoded data removed]",
      "text/plain": [
       "<Figure size 432x288 with 1 Axes>"
      ]
     },
     "metadata": {
      "needs_background": "light"
     },
     "output_type": "display_data"
    }
   ],
   "source": [
    "# i. & .ii\n",
    "net = solutions.SpikingNetwork()\n",
    "\n",
    "in1 = InputNeuron( GenerateSpikeTrain([30], [0.3]) )  # Create an input neuron\n",
    "A = solutions.LIFNeuron()  # Create a LIF neuron\n",
    "B = solutions.LIFNeuron()\n",
    "\n",
    "\n",
    "net.AddNeuron(in1)  # Input neuron 0\n",
    "net.AddNeuron(A)  # Neuron 1 (A) (uses default values)\n",
    "net.AddNeuron(B)  # Neuron 2 (B) (uses default values)\n",
    "\n",
    "net.Connect(in1.Get_idx(), A.Get_idx(), 0.05)  \n",
    "net.Connect(A.Get_idx(), B.Get_idx(), 0.05)  \n",
    "net.Connect(B.Get_idx(), A.Get_idx(), 0.05)  \n",
    "\n",
    "net.Simulate(1, 0.001) \n",
    "\n",
    "# Plot the spike rasters for all the neurons in the network.\n",
    "PlotSpikeRaster( net.AllSpikeTimes() )"
   ]
  },
  {
   "cell_type": "markdown",
   "metadata": {},
   "source": [
    "## (c) Three LIF Neurons: Inhibition"
   ]
  },
  {
   "cell_type": "code",
   "execution_count": 29,
   "metadata": {
    "ExecuteTime": {
     "end_time": "2020-01-19T16:36:11.884588Z",
     "start_time": "2020-01-19T16:36:11.874526Z"
    }
   },
   "outputs": [],
   "source": [
    "# i.\n",
    "net = SpikingNetwork()\n",
    "\n",
    "in1 = InputNeuron( GenerateSpikeTrain([30], [0.3]))  # Create an input neuron\n",
    "in2 = InputNeuron( GenerateSpikeTrain([0, 50], [0.7, 1.]))\n",
    "A = LIFNeuron()  # Create a LIF neuron\n",
    "B = LIFNeuron()\n",
    "C = LIFNeuron()\n",
    "\n",
    "\n",
    "net.AddNeuron(in1)  # Input neuron 0\n",
    "net.AddNeuron(in2)\n",
    "net.AddNeuron(A)  # Neuron  (A) (uses default values)\n",
    "net.AddNeuron(B)  # Neuron  (B) (uses default values)\n",
    "net.AddNeuron(C)  # Neuron  (C) (uses default values)\n",
    "\n",
    "net.Connect(in1.Get_idx(), A.Get_idx(), 0.05)\n",
    "net.Connect(in2.Get_idx(), C.Get_idx(), 0.05) \n",
    "net.Connect(A.Get_idx(), B.Get_idx(), 0.05)  \n",
    "net.Connect(B.Get_idx(), A.Get_idx(), 0.05)\n",
    "net.Connect(C.Get_idx(), B.Get_idx(), -0.2)"
   ]
  },
  {
   "cell_type": "code",
   "execution_count": 30,
   "metadata": {
    "ExecuteTime": {
     "end_time": "2020-01-19T16:36:13.548901Z",
     "start_time": "2020-01-19T16:36:11.886642Z"
    }
   },
   "outputs": [
    {
     "data": {
      "image/png": "[encoded data removed]",
      "text/plain": [
       "<Figure size 432x288 with 1 Axes>"
      ]
     },
     "metadata": {
      "needs_background": "light"
     },
     "output_type": "display_data"
    }
   ],
   "source": [
    "# ii.\n",
    "net.Simulate(1.5, 0.001) \n",
    "\n",
    "# Plot the spike rasters for all the neurons in the network.\n",
    "PlotSpikeRaster( net.AllSpikeTimes() )"
   ]
  },
  {
   "cell_type": "markdown",
   "metadata": {
    "ExecuteTime": {
     "end_time": "2020-01-19T01:16:11.197145Z",
     "start_time": "2020-01-19T01:16:11.194355Z"
    }
   },
   "source": [
    "### iii.\n",
    "Connecting inhibitory \"Neuron C\" (with negative synaptic weight) to \"Neuron B\" has the following consequences; \n",
    "\n",
    "  (1) The activity of \"Neuron B\" starts to dicrease untill it stops firing. \n",
    "  (2) \"Neuron B\" forms excitatory synapse with \"Neuron A\", so the input current to \"Neuron A\" decreases since it recieves less excitation from \"Neuron B\". As a result, the same effect mentioned above happens for \"Neuron A\" but with a delay.          "
   ]
  },
  {
   "cell_type": "markdown",
   "metadata": {},
   "source": [
    "#### Check Q3.c (Three LIF Neurons: Inhibition) with Solution"
   ]
  },
  {
   "cell_type": "code",
   "execution_count": 31,
   "metadata": {
    "ExecuteTime": {
     "end_time": "2020-01-19T16:36:22.583027Z",
     "start_time": "2020-01-19T16:36:13.551079Z"
    }
   },
   "outputs": [
    {
     "data": {
      "image/png": "[encoded data removed]",
      "text/plain": [
       "<Figure size 432x288 with 1 Axes>"
      ]
     },
     "metadata": {
      "needs_background": "light"
     },
     "output_type": "display_data"
    }
   ],
   "source": [
    "net = solutions.SpikingNetwork()\n",
    "\n",
    "in1 = InputNeuron( GenerateSpikeTrain([30], [0.3]))  # Create an input neuron\n",
    "in2 = InputNeuron( GenerateSpikeTrain([0, 50], [0.7, 1.]))\n",
    "A = solutions.LIFNeuron()  # Create a LIF neuron\n",
    "B = solutions.LIFNeuron()\n",
    "C = solutions.LIFNeuron()\n",
    "\n",
    "\n",
    "net.AddNeuron(in1)  # Input neuron 0\n",
    "net.AddNeuron(in2)\n",
    "net.AddNeuron(A)  # Neuron  (A) (uses default values)\n",
    "net.AddNeuron(B)  # Neuron  (B) (uses default values)\n",
    "net.AddNeuron(C)  # Neuron  (C) (uses default values)\n",
    "\n",
    "net.Connect(in1.Get_idx(), A.Get_idx(), 0.05)\n",
    "net.Connect(in2.Get_idx(), C.Get_idx(), 0.05) \n",
    "net.Connect(A.Get_idx(), B.Get_idx(), 0.05)  \n",
    "net.Connect(B.Get_idx(), A.Get_idx(), 0.05)\n",
    "net.Connect(C.Get_idx(), B.Get_idx(), -0.2)\n",
    "\n",
    "net.Simulate(1.5, 0.001) \n",
    "\n",
    "# Plot the spike rasters for all the neurons in the network.\n",
    "PlotSpikeRaster( net.AllSpikeTimes() )"
   ]
  },
  {
   "cell_type": "markdown",
   "metadata": {},
   "source": [
    "## (d) Ring Oscillator"
   ]
  },
  {
   "cell_type": "code",
   "execution_count": 49,
   "metadata": {
    "ExecuteTime": {
     "end_time": "2020-01-19T17:10:20.570539Z",
     "start_time": "2020-01-19T17:10:20.515616Z"
    }
   },
   "outputs": [],
   "source": [
    "# i.\n",
    "A = LIFNeuron(Tau_m=0.050, Tau_ref=0.002, Tau_s=0.100) \n",
    "B = LIFNeuron(Tau_m=0.050, Tau_ref=0.002, Tau_s=0.100)\n",
    "C = LIFNeuron(Tau_m=0.050, Tau_ref=0.002, Tau_s=0.100)\n",
    "D = LIFNeuron(Tau_m=0.050, Tau_ref=0.002, Tau_s=0.100)\n",
    "E = LIFNeuron(Tau_m=0.050, Tau_ref=0.002, Tau_s=0.100)\n",
    "F = LIFNeuron(Tau_m=0.050, Tau_ref=0.002, Tau_s=0.100)\n",
    "G = LIFNeuron(Tau_m=0.050, Tau_ref=0.002, Tau_s=0.100)\n",
    "H = LIFNeuron(Tau_m=0.050, Tau_ref=0.002, Tau_s=0.100)\n",
    "\n",
    "net = SpikingNetwork()\n",
    "\n",
    "net.AddNeuron(A)  \n",
    "net.AddNeuron(B)  \n",
    "net.AddNeuron(C) \n",
    "net.AddNeuron(D)  \n",
    "net.AddNeuron(E)  \n",
    "net.AddNeuron(F)\n",
    "net.AddNeuron(G)  \n",
    "net.AddNeuron(H)\n",
    "\n",
    "net.Connect(A.Get_idx(), B.Get_idx(), 0.2) \n",
    "net.Connect(B.Get_idx(), C.Get_idx(), 0.2) \n",
    "net.Connect(C.Get_idx(), D.Get_idx(), 0.2) \n",
    "net.Connect(D.Get_idx(), E.Get_idx(), 0.2) \n",
    "net.Connect(E.Get_idx(), F.Get_idx(), 0.2) \n",
    "net.Connect(F.Get_idx(), G.Get_idx(), 0.2) \n",
    "net.Connect(G.Get_idx(), H.Get_idx(), 0.2) \n",
    "net.Connect(H.Get_idx(), A.Get_idx(), 0.2) \n"
   ]
  },
  {
   "cell_type": "code",
   "execution_count": 50,
   "metadata": {
    "ExecuteTime": {
     "end_time": "2020-01-19T17:10:21.441300Z",
     "start_time": "2020-01-19T17:10:21.412689Z"
    }
   },
   "outputs": [],
   "source": [
    "# ii.\n",
    "net.Connect(B.Get_idx(), A.Get_idx(), -0.4)\n",
    "net.Connect(A.Get_idx(), H.Get_idx(), -0.4)\n",
    "net.Connect(H.Get_idx(), G.Get_idx(), -0.4)\n",
    "net.Connect(G.Get_idx(), F.Get_idx(), -0.4)\n",
    "net.Connect(F.Get_idx(), E.Get_idx(), -0.4)\n",
    "net.Connect(E.Get_idx(), D.Get_idx(), -0.4)\n",
    "net.Connect(D.Get_idx(), C.Get_idx(), -0.4)\n",
    "net.Connect(C.Get_idx(), B.Get_idx(), -0.4)"
   ]
  },
  {
   "cell_type": "code",
   "execution_count": 51,
   "metadata": {
    "ExecuteTime": {
     "end_time": "2020-01-19T17:10:22.238438Z",
     "start_time": "2020-01-19T17:10:22.233827Z"
    }
   },
   "outputs": [],
   "source": [
    "# iii.\n",
    "in1 = InputNeuron( GenerateSpikeTrain([25], [0.3]))\n",
    "net.AddNeuron(in1)\n",
    "net.Connect(in1.Get_idx(), A.Get_idx(), 0.2)"
   ]
  },
  {
   "cell_type": "code",
   "execution_count": 52,
   "metadata": {
    "ExecuteTime": {
     "end_time": "2020-01-19T17:10:25.309757Z",
     "start_time": "2020-01-19T17:10:23.428915Z"
    },
    "scrolled": false
   },
   "outputs": [
    {
     "data": {
      "image/png": "[encoded data removed]",
      "text/plain": [
       "<Figure size 432x288 with 1 Axes>"
      ]
     },
     "metadata": {
      "needs_background": "light"
     },
     "output_type": "display_data"
    }
   ],
   "source": [
    "# iv.\n",
    "net.Simulate(4, 0.001) \n",
    "# Plot the spike rasters for all the neurons in the network.\n",
    "PlotSpikeRaster( net.AllSpikeTimes() )"
   ]
  },
  {
   "cell_type": "code",
   "execution_count": 53,
   "metadata": {
    "ExecuteTime": {
     "end_time": "2020-01-19T17:10:30.540775Z",
     "start_time": "2020-01-19T17:10:30.511228Z"
    },
    "scrolled": false
   },
   "outputs": [
    {
     "data": {
      "text/plain": [
       "[array([0.06276302, 0.07605349, 0.21813917, 0.23899569, 0.2629494 ,\n",
       "        0.27962732, 0.61288581, 0.63366453, 0.66129799, 1.04427293,\n",
       "        1.08309582, 1.43891471, 1.47357107, 1.83199585, 1.86408613,\n",
       "        2.22613482, 2.25745624, 2.61992078, 2.65105168, 3.01295796,\n",
       "        3.04412249, 3.40595877, 3.437124  , 3.79895879, 3.83012403]),\n",
       " array([0.08740783, 0.10936285, 0.28752459, 0.30322655, 0.322032  ,\n",
       "        0.34594496, 0.67416015, 0.69484007, 0.72227738, 1.10501958,\n",
       "        1.14180777, 1.49191711, 1.52424771, 1.88288453, 1.91458735,\n",
       "        2.27599071, 2.30718392, 2.66965739, 2.70085849, 3.06263873,\n",
       "        3.09382416, 3.45563833, 3.48682344, 3.84863832, 3.87982343]),\n",
       " array([0.11762893, 0.13983031, 0.34535026, 0.35882405, 0.37437902,\n",
       "        0.39296053, 0.73115991, 0.75000074, 0.77397703, 1.15346774,\n",
       "        1.18087546, 1.54100991, 1.57110596, 1.93234525, 1.96327848,\n",
       "        2.32553833, 2.35663801, 2.7188036 , 2.74983471, 3.11179226,\n",
       "        3.142814  , 3.50479203, 3.53581358, 3.89779202, 3.92881357]),\n",
       " array([0.14762893, 0.16983031, 0.39333356, 0.40580328, 0.4199758 ,\n",
       "        0.4365233 , 0.78173968, 0.79937149, 1.19401983, 1.2203932 ,\n",
       "        1.58809211, 1.6174331 , 1.9811333 , 2.01159738, 2.3745237 ,\n",
       "        2.40531622, 2.76778622, 2.79880312, 3.16079191, 3.19181336,\n",
       "        3.55379202, 3.58481356, 3.94679202, 3.97781357]),\n",
       " array([0.17762893, 0.19983031, 0.4363756 , 0.44828586, 0.46171329,\n",
       "        0.47720153, 0.81782773, 0.84512207, 1.23674908, 1.26474195,\n",
       "        1.63466834, 1.6641823 , 2.02936882, 2.05973835, 2.42347079,\n",
       "        2.45421752, 2.81678509, 2.84780108, 3.20979189, 3.24081333,\n",
       "        3.60279202, 3.63381356, 3.99579202]),\n",
       " array([0.20762893, 0.22983031, 0.48895103, 0.50356578, 0.86769102,\n",
       "        0.90129609, 1.28232506, 1.31207   , 1.68208884, 1.71222505,\n",
       "        2.07758142, 2.10812645, 2.47250378, 2.50327885, 2.86578578,\n",
       "        2.89680232, 3.2587919 , 3.28981335, 3.65179202, 3.68281356]),\n",
       " array([0.23762893, 0.25983031, 0.2904672 , 0.50679445, 0.52544264,\n",
       "        0.54907366, 0.92407844, 0.96025028, 1.33163373, 1.3630805 ,\n",
       "        1.73102162, 1.76193849, 2.12670215, 2.15764716, 2.52168448,\n",
       "        2.55261459, 2.91478966, 2.94580932, 3.30779198, 3.33881348,\n",
       "        3.70079202, 3.73181357]),\n",
       " array([0.5569891 , 0.57452925, 0.59626717, 0.98339611, 1.0207199 ,\n",
       "        1.38414023, 1.41765424, 1.78106825, 1.81290941, 2.17607536,\n",
       "        2.20734445, 2.57085434, 2.60192738, 2.96388658, 2.99498753,\n",
       "        3.35688734, 3.38798889, 3.74988736, 3.78098892]),\n",
       " array([0.02, 0.06, 0.1 , 0.14, 0.18, 0.22, 0.26])]"
      ]
     },
     "execution_count": 53,
     "metadata": {},
     "output_type": "execute_result"
    }
   ],
   "source": [
    "# v.\n",
    "net.AllSpikeTimes()"
   ]
  },
  {
   "cell_type": "code",
   "execution_count": 54,
   "metadata": {
    "ExecuteTime": {
     "end_time": "2020-01-19T17:12:13.959553Z",
     "start_time": "2020-01-19T17:12:13.949828Z"
    }
   },
   "outputs": [
    {
     "data": {
      "text/plain": [
       "0.3733813100000001"
      ]
     },
     "execution_count": 54,
     "metadata": {},
     "output_type": "execute_result"
    }
   ],
   "source": [
    "'''\n",
    "The time (sec) it takes the wave of activity to go around the ring\n",
    "'''\n",
    "waveTime = 1.41765424 - 1.04427293"
   ]
  },
  {
   "cell_type": "markdown",
   "metadata": {
    "ExecuteTime": {
     "end_time": "2020-01-19T16:57:40.086455Z",
     "start_time": "2020-01-19T16:57:40.078504Z"
    }
   },
   "source": [
    "#### Check Q3.d (Ring Oscillator) with Solution"
   ]
  },
  {
   "cell_type": "code",
   "execution_count": 44,
   "metadata": {
    "ExecuteTime": {
     "end_time": "2020-01-19T16:55:43.318966Z",
     "start_time": "2020-01-19T16:54:36.267762Z"
    }
   },
   "outputs": [
    {
     "data": {
      "image/png": "[encoded data removed]",
      "text/plain": [
       "<Figure size 432x288 with 1 Axes>"
      ]
     },
     "metadata": {
      "needs_background": "light"
     },
     "output_type": "display_data"
    }
   ],
   "source": [
    "A = solutions.LIFNeuron(Tau_m=0.050, Tau_ref=0.002, Tau_s=0.100) \n",
    "B = solutions.LIFNeuron(Tau_m=0.050, Tau_ref=0.002, Tau_s=0.100)\n",
    "C = solutions.LIFNeuron(Tau_m=0.050, Tau_ref=0.002, Tau_s=0.100)\n",
    "D = solutions.LIFNeuron(Tau_m=0.050, Tau_ref=0.002, Tau_s=0.100)\n",
    "E = solutions.LIFNeuron(Tau_m=0.050, Tau_ref=0.002, Tau_s=0.100)\n",
    "F = solutions.LIFNeuron(Tau_m=0.050, Tau_ref=0.002, Tau_s=0.100)\n",
    "G = solutions.LIFNeuron(Tau_m=0.050, Tau_ref=0.002, Tau_s=0.100)\n",
    "H = solutions.LIFNeuron(Tau_m=0.050, Tau_ref=0.002, Tau_s=0.100)\n",
    "\n",
    "net = solutions.SpikingNetwork()\n",
    "\n",
    "net.AddNeuron(A)  \n",
    "net.AddNeuron(B)  \n",
    "net.AddNeuron(C) \n",
    "net.AddNeuron(D)  \n",
    "net.AddNeuron(E)  \n",
    "net.AddNeuron(F)\n",
    "net.AddNeuron(G)  \n",
    "net.AddNeuron(H)\n",
    "\n",
    "net.Connect(A.Get_idx(), B.Get_idx(), 0.2) \n",
    "net.Connect(B.Get_idx(), C.Get_idx(), 0.2) \n",
    "net.Connect(C.Get_idx(), D.Get_idx(), 0.2) \n",
    "net.Connect(D.Get_idx(), E.Get_idx(), 0.2) \n",
    "net.Connect(E.Get_idx(), F.Get_idx(), 0.2) \n",
    "net.Connect(F.Get_idx(), G.Get_idx(), 0.2) \n",
    "net.Connect(G.Get_idx(), H.Get_idx(), 0.2) \n",
    "net.Connect(H.Get_idx(), A.Get_idx(), 0.2) \n",
    "\n",
    "net.Connect(B.Get_idx(), A.Get_idx(), -0.4)\n",
    "net.Connect(A.Get_idx(), H.Get_idx(), -0.4)\n",
    "net.Connect(H.Get_idx(), G.Get_idx(), -0.4)\n",
    "net.Connect(G.Get_idx(), F.Get_idx(), -0.4)\n",
    "net.Connect(F.Get_idx(), E.Get_idx(), -0.4)\n",
    "net.Connect(E.Get_idx(), D.Get_idx(), -0.4)\n",
    "net.Connect(D.Get_idx(), C.Get_idx(), -0.4)\n",
    "net.Connect(C.Get_idx(), B.Get_idx(), -0.4)\n",
    "\n",
    "in1 = InputNeuron( GenerateSpikeTrain([25], [0.3]))\n",
    "net.AddNeuron(in1)\n",
    "net.Connect(in1.Get_idx(), A.Get_idx(), 0.2)\n",
    "\n",
    "net.Simulate(4, 0.001) \n",
    "# Plot the spike rasters for all the neurons in the network.\n",
    "PlotSpikeRaster( net.AllSpikeTimes() )"
   ]
  },
  {
   "cell_type": "markdown",
   "metadata": {},
   "source": [
    "# Q4: Neural Activation Functions"
   ]
  },
  {
   "cell_type": "markdown",
   "metadata": {},
   "source": [
    "## (a) ReLU derivative"
   ]
  },
  {
   "cell_type": "markdown",
   "metadata": {},
   "source": [
    "\\begin{align}\n",
    "f(x) &= ReLU(x) \\\\\n",
    "&= \\ldots\n",
    "\\end{align}\n"
   ]
  },
  {
   "cell_type": "markdown",
   "metadata": {},
   "source": [
    "## (b.i) Logistic"
   ]
  },
  {
   "cell_type": "code",
   "execution_count": 37,
   "metadata": {
    "ExecuteTime": {
     "end_time": "2020-01-19T16:36:22.640036Z",
     "start_time": "2020-01-19T16:36:22.634729Z"
    }
   },
   "outputs": [],
   "source": [
    "# Plot\n"
   ]
  },
  {
   "cell_type": "markdown",
   "metadata": {},
   "source": [
    "YOUR ANSWER HERE"
   ]
  },
  {
   "cell_type": "markdown",
   "metadata": {},
   "source": [
    "## (b.ii) tanh"
   ]
  },
  {
   "cell_type": "code",
   "execution_count": 38,
   "metadata": {
    "ExecuteTime": {
     "end_time": "2020-01-19T16:36:22.647582Z",
     "start_time": "2020-01-19T16:36:22.642596Z"
    }
   },
   "outputs": [],
   "source": [
    "# Plot\n"
   ]
  },
  {
   "cell_type": "markdown",
   "metadata": {},
   "source": [
    "YOUR ANSWER HERE"
   ]
  },
  {
   "cell_type": "markdown",
   "metadata": {},
   "source": [
    "## (b.iii) ReLU"
   ]
  },
  {
   "cell_type": "code",
   "execution_count": 39,
   "metadata": {
    "ExecuteTime": {
     "end_time": "2020-01-19T16:36:22.655786Z",
     "start_time": "2020-01-19T16:36:22.649833Z"
    },
    "scrolled": true
   },
   "outputs": [],
   "source": [
    "# Plot\n"
   ]
  },
  {
   "cell_type": "markdown",
   "metadata": {},
   "source": [
    "YOUR ANSWER HERE"
   ]
  },
  {
   "cell_type": "markdown",
   "metadata": {},
   "source": [
    "## (c.i) Derivative of f with respect to x"
   ]
  },
  {
   "cell_type": "markdown",
   "metadata": {},
   "source": [
    "YOUR ANSWER HERE"
   ]
  },
  {
   "cell_type": "markdown",
   "metadata": {},
   "source": [
    "## (c.ii) Derivative of f with respect to w"
   ]
  },
  {
   "cell_type": "markdown",
   "metadata": {},
   "source": [
    "YOUR ANSWER HERE"
   ]
  },
  {
   "cell_type": "markdown",
   "metadata": {},
   "source": [
    "## (c.ii) Derivative of f with respect to b"
   ]
  },
  {
   "cell_type": "markdown",
   "metadata": {
    "ExecuteTime": {
     "end_time": "2020-01-19T00:44:40.848087Z",
     "start_time": "2020-01-19T00:44:40.842009Z"
    }
   },
   "source": [
    "YOUR ANSWER HERE"
   ]
  }
 ],
 "metadata": {
  "anaconda-cloud": {},
  "kernelspec": {
   "display_name": "Python 3",
   "language": "python",
   "name": "python3"
  },
  "language_info": {
   "codemirror_mode": {
    "name": "ipython",
    "version": 3
   },
   "file_extension": ".py",
   "mimetype": "text/x-python",
   "name": "python",
   "nbconvert_exporter": "python",
   "pygments_lexer": "ipython3",
   "version": "3.7.3"
  },
  "toc": {
   "nav_menu": {},
   "number_sections": true,
   "sideBar": true,
   "skip_h1_title": false,
   "title_cell": "Table of Contents",
   "title_sidebar": "Contents",
   "toc_cell": false,
   "toc_position": {},
   "toc_section_display": true,
   "toc_window_display": false
  }
 },
 "nbformat": 4,
 "nbformat_minor": 2
}
